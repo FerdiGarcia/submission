{
 "cells": [
  {
   "cell_type": "markdown",
   "metadata": {},
   "source": [
    "# Project 2 Notebook: Clean Training & Test dataset \n"
   ]
  },
  {
   "cell_type": "markdown",
   "metadata": {},
   "source": [
    "Load Libraries:"
   ]
  },
  {
   "cell_type": "code",
   "execution_count": 1,
   "metadata": {},
   "outputs": [],
   "source": [
    "import numpy as np\n",
    "import pandas as pd\n",
    "import statistics as st\n",
    "import matplotlib.pyplot as plt\n",
    "import math as math\n",
    "import seaborn as sns\n",
    "from sklearn import metrics \n",
    "from sklearn.model_selection import train_test_split, KFold, cross_val_score\n",
    "from sklearn.linear_model import LinearRegression\n",
    "from sklearn.linear_model import Ridge\n",
    "from sklearn.preprocessing import StandardScaler\n",
    "\n",
    "%matplotlib inline\n",
    "\n",
    "pd.options.display.max_rows=2000"
   ]
  },
  {
   "cell_type": "markdown",
   "metadata": {},
   "source": [
    "Load Data:"
   ]
  },
  {
   "cell_type": "code",
   "execution_count": 2,
   "metadata": {},
   "outputs": [],
   "source": [
    "train = pd.read_csv('../datasets/train.csv')"
   ]
  },
  {
   "cell_type": "markdown",
   "metadata": {},
   "source": [
    "### Conduct exploratory data analysis on TRAIN data set. \n"
   ]
  },
  {
   "cell_type": "code",
   "execution_count": 3,
   "metadata": {
    "scrolled": true
   },
   "outputs": [],
   "source": [
    "#train.dtypes"
   ]
  },
  {
   "cell_type": "code",
   "execution_count": 4,
   "metadata": {},
   "outputs": [],
   "source": [
    "#train.shape"
   ]
  },
  {
   "cell_type": "code",
   "execution_count": 5,
   "metadata": {},
   "outputs": [],
   "source": [
    "def eda(df):\n",
    "    # Edit column headers; replace embedded sapce to underscore symbol\n",
    "    df.columns = df.columns.str.strip().str.lower().str.replace(' ', '_')\\\n",
    "                .str.replace('(', '').str.replace(')', '').str.replace('/', '_')  \n",
    "   \n",
    "    #Replace missing alley values with 'NA'\n",
    "    df['alley'].fillna(value='NA',inplace=True)\n",
    "    #Replace missing lot_frontage values with median value\n",
    "    df.fillna(value={'lot_frontage':68},inplace=True)\n",
    "    #Replace missing mas_vnr_type values with 'None'\n",
    "    df['mas_vnr_type'].fillna(value='None',inplace=True)\n",
    "    #Replace missing mas_vnr_area values with 'zero\n",
    "    df['mas_vnr_area'] = df['mas_vnr_area'].fillna(0)   \n",
    "    #Replace missing bsmt_qual values with 'NA'\n",
    "    df['bsmt_qual'].fillna(value='NA',inplace=True)\n",
    "    #Replace missing bsmt_cond values with 'NA'\n",
    "    df['bsmt_cond'].fillna(value='NA',inplace=True)\n",
    "    #Replace missing bsmt_exposure values with 'NA'\n",
    "    df['bsmt_exposure'].fillna(value='NA',inplace=True)\n",
    "    #Replace missing bsmtfin_type_1 values with 'NA'\n",
    "    df['bsmtfin_type_1'].fillna(value='NA',inplace=True)\n",
    "    #Replace missing bsmtfin_sf_1 values with 'zero\n",
    "    df['bsmtfin_sf_1'] = df['bsmtfin_sf_1'].fillna(0)  \n",
    "    #Replace missing bsmtfin_type_1 values with 'NA'\n",
    "    df['bsmtfin_type_2'].fillna(value='NA',inplace=True)\n",
    "    #Replace missing bsmtfin_sf_2 values with 'zero\n",
    "    df['bsmtfin_sf_2'] = df['bsmtfin_sf_2'].fillna(0) \n",
    "    #Replace missing bsmt_unf_sf values with 'zero\n",
    "    df['bsmt_unf_sf'] = df['bsmt_unf_sf'].fillna(0)  \n",
    "    #Replace missing total_bsmt_sf values with 'zero\n",
    "    df['total_bsmt_sf'] = df['total_bsmt_sf'].fillna(0) \n",
    "    #Replace missing bsmt_full_bath values with 'zero\n",
    "    df['bsmt_full_bath'] = df['bsmt_full_bath'].fillna(0) \n",
    "    #Replace missing bsmt_half_bath values with 'zero\n",
    "    df['bsmt_half_bath'] = df['bsmt_half_bath'].fillna(0) \n",
    "    #Replace missing fireplace_qu values with 'NA'\n",
    "    df['fireplace_qu'].fillna(value='NA',inplace=True)\n",
    "    #Replace missing garage_type values with 'NA'\n",
    "    df['garage_type'].fillna(value='NA',inplace=True)\n",
    "    #Replace missing bsmt_half_bath values with with median value\n",
    "    df['garage_yr_blt'] = df['garage_yr_blt'].fillna(1979) \n",
    "    #Replace missing garage_finish values with 'NA'\n",
    "    df['garage_finish'].fillna(value='NA',inplace=True)\n",
    "    df['garage_cars'] = df['garage_cars'].fillna(0) \n",
    "    #Replace missing garage_area values with 'zero\n",
    "    df['garage_area'] = df['garage_area'].fillna(0) \n",
    "    #Replace missing garage_qual values with 'NA'\n",
    "    df['garage_qual'].fillna(value='NA',inplace=True)\n",
    "    #Replace missing garage_cond values with 'NA'\n",
    "    df['garage_cond'].fillna(value='NA',inplace=True)\n",
    "    #Replace missing pool_qc values with 'NA'\n",
    "    df['pool_qc'].fillna(value='NA',inplace=True)\n",
    "    #Replace missing fence values with 'NA'\n",
    "    df['fence'].fillna(value='NA',inplace=True)\n",
    "    #Replace missing misc_feature values with 'NA'\n",
    "    df['misc_feature'].fillna(value='NA',inplace=True)\n",
    "    return  None \n",
    "\n",
    "eda(train)\n"
   ]
  },
  {
   "cell_type": "code",
   "execution_count": 6,
   "metadata": {},
   "outputs": [],
   "source": [
    "#train.isnull().sum()    #All columns = zero null  "
   ]
  },
  {
   "cell_type": "code",
   "execution_count": 7,
   "metadata": {
    "scrolled": false
   },
   "outputs": [],
   "source": [
    "def dummys(df):\n",
    "    df = pd.get_dummies(df, columns=['ms_zoning', 'street',  'land_contour', 'lot_config' \n",
    "                                     ,'condition_1', 'condition_2', 'bldg_type', 'house_style' \n",
    "                                     ,'roof_style'\n",
    "                                     ,'roof_matl', 'exterior_1st', 'exterior_2nd', 'mas_vnr_type'\n",
    "                                     ,'foundation' \n",
    "                                     ,'heating' \n",
    "                                     ,'central_air' \n",
    "                                     ,'garage_type'\n",
    "                                     ,'misc_feature'\n",
    "                                    ], drop_first=True)\n",
    "    return df\n",
    "\n",
    "train_new = dummys(train)"
   ]
  },
  {
   "cell_type": "code",
   "execution_count": 8,
   "metadata": {},
   "outputs": [],
   "source": [
    "#train_new"
   ]
  },
  {
   "cell_type": "code",
   "execution_count": 9,
   "metadata": {},
   "outputs": [],
   "source": [
    "def str_to_ord(df):\n",
    "    replace={'lot_shape':{'Reg':3,'IR1':2,'IR2':1,'IR3':0},\\\n",
    "             'utilities':{'AllPub':3,'NoSewr':2,'NoSeWa':1,'ELO':0},\\\n",
    "             'land_slope':{'Gtl':2,'Mod':1,'Sev':0},\\\n",
    "             'exter_qual':{'Ex':4,'Gd':3,'TA':2,'Fa':1,'Po':0},\\\n",
    "             'exter_cond':{'Ex':4,'Gd':3,'TA':2,'Fa':1,'Po':0},\\\n",
    "             'bsmt_qual':{'Ex':5,'Gd':4,'TA':3,'Fa':2,'Po':1,'NA':0},\\\n",
    "             'bsmt_cond':{'Ex':5,'Gd':4,'TA':3,'Fa':2,'Po':1,'NA':0},\\\n",
    "             'bsmt_exposure':{'Gd':4,'Av':3,'Mn':2,'No':1,'NA':0},\\\n",
    "             'bsmtfin_type_1':{'GLQ':6,'ALQ':5,'BLQ':4,'Rec':3,'LwQ':2,'Unf':1,'NA':0},\\\n",
    "             'bsmtfin_type_2':{'GLQ':6,'ALQ':5,'BLQ':4,'Rec':3,'LwQ':2,'Unf':1,'NA':0},\\\n",
    "             'heating_qc':{'Ex':4,'Gd':3,'TA':2,'Fa':1,'Po':0},\\\n",
    "             'electrical':{'SBrkr':4,'FuseA':3,'FuseF':2,'FuseP':1,'Mix':0},\\\n",
    "             'kitchen_qual':{'Ex':4,'Gd':3,'TA':2,'Fa':1,'Po':0},\\\n",
    "             'functional':{'Typ':7,'Min1':6,'Min2':5,'Mod':4,'Maj1':3,'Maj2':2,'Sev':1,'Sal':0},\\\n",
    "             'fireplace_qu':{'Ex':5,'Gd':4,'TA':3,'Fa':2,'Po':1,'NA':0},\\\n",
    "             'garage_finish':{'Fin':3,'RFn':2,'Unf':1,'NA':0},\\\n",
    "             'garage_qual':{'Ex':5,'Gd':4,'TA':3,'Fa':2,'Po':1,'NA':0},\\\n",
    "             'garage_cond':{'Ex':5,'Gd':4,'TA':3,'Fa':2,'Po':1,'NA':0},\\\n",
    "             'paved_drive':{'Y':2,'P':1,'N':0},\\\n",
    "             'pool_qc':{'Ex':4,'Gd':3,'TA':2,'Fa':1,'NA':0},\\\n",
    "             'fence':{'GdPrv':4,'MnPrv':3,'GdWo':2,'MnWw':1,'NA':0}}\n",
    "    df.replace(replace,inplace=True,method=None)\n",
    "    return None\n",
    "\n",
    "str_to_ord(train_new)  \n"
   ]
  },
  {
   "cell_type": "code",
   "execution_count": 10,
   "metadata": {},
   "outputs": [
    {
     "data": {
      "text/plain": [
       "id                        int64\n",
       "pid                       int64\n",
       "ms_subclass               int64\n",
       "lot_frontage            float64\n",
       "lot_area                  int64\n",
       "alley                    object\n",
       "lot_shape                 int64\n",
       "utilities                object\n",
       "land_slope                int64\n",
       "neighborhood             object\n",
       "overall_qual              int64\n",
       "overall_cond              int64\n",
       "year_built                int64\n",
       "year_remod_add            int64\n",
       "mas_vnr_area            float64\n",
       "exter_qual               object\n",
       "exter_cond                int64\n",
       "bsmt_qual                 int64\n",
       "bsmt_cond                 int64\n",
       "bsmt_exposure             int64\n",
       "bsmtfin_type_1            int64\n",
       "bsmtfin_sf_1            float64\n",
       "bsmtfin_type_2            int64\n",
       "bsmtfin_sf_2            float64\n",
       "bsmt_unf_sf             float64\n",
       "total_bsmt_sf           float64\n",
       "heating_qc                int64\n",
       "electrical                int64\n",
       "1st_flr_sf                int64\n",
       "2nd_flr_sf                int64\n",
       "low_qual_fin_sf           int64\n",
       "gr_liv_area               int64\n",
       "bsmt_full_bath          float64\n",
       "bsmt_half_bath          float64\n",
       "full_bath                 int64\n",
       "half_bath                 int64\n",
       "bedroom_abvgr             int64\n",
       "kitchen_abvgr             int64\n",
       "kitchen_qual             object\n",
       "totrms_abvgrd             int64\n",
       "functional                int64\n",
       "fireplaces                int64\n",
       "fireplace_qu              int64\n",
       "garage_yr_blt           float64\n",
       "garage_finish             int64\n",
       "garage_cars             float64\n",
       "garage_area             float64\n",
       "garage_qual               int64\n",
       "garage_cond               int64\n",
       "paved_drive               int64\n",
       "wood_deck_sf              int64\n",
       "open_porch_sf             int64\n",
       "enclosed_porch            int64\n",
       "3ssn_porch                int64\n",
       "screen_porch              int64\n",
       "pool_area                 int64\n",
       "pool_qc                   int64\n",
       "fence                     int64\n",
       "misc_val                  int64\n",
       "mo_sold                   int64\n",
       "yr_sold                   int64\n",
       "sale_type                object\n",
       "saleprice                 int64\n",
       "ms_zoning_C (all)         uint8\n",
       "ms_zoning_FV              uint8\n",
       "ms_zoning_I (all)         uint8\n",
       "ms_zoning_RH              uint8\n",
       "ms_zoning_RL              uint8\n",
       "ms_zoning_RM              uint8\n",
       "street_Pave               uint8\n",
       "land_contour_HLS          uint8\n",
       "land_contour_Low          uint8\n",
       "land_contour_Lvl          uint8\n",
       "lot_config_CulDSac        uint8\n",
       "lot_config_FR2            uint8\n",
       "lot_config_FR3            uint8\n",
       "lot_config_Inside         uint8\n",
       "condition_1_Feedr         uint8\n",
       "condition_1_Norm          uint8\n",
       "condition_1_PosA          uint8\n",
       "condition_1_PosN          uint8\n",
       "condition_1_RRAe          uint8\n",
       "condition_1_RRAn          uint8\n",
       "condition_1_RRNe          uint8\n",
       "condition_1_RRNn          uint8\n",
       "condition_2_Feedr         uint8\n",
       "condition_2_Norm          uint8\n",
       "condition_2_PosA          uint8\n",
       "condition_2_PosN          uint8\n",
       "condition_2_RRAe          uint8\n",
       "condition_2_RRAn          uint8\n",
       "condition_2_RRNn          uint8\n",
       "bldg_type_2fmCon          uint8\n",
       "bldg_type_Duplex          uint8\n",
       "bldg_type_Twnhs           uint8\n",
       "bldg_type_TwnhsE          uint8\n",
       "house_style_1.5Unf        uint8\n",
       "house_style_1Story        uint8\n",
       "house_style_2.5Fin        uint8\n",
       "house_style_2.5Unf        uint8\n",
       "house_style_2Story        uint8\n",
       "house_style_SFoyer        uint8\n",
       "house_style_SLvl          uint8\n",
       "roof_style_Gable          uint8\n",
       "roof_style_Gambrel        uint8\n",
       "roof_style_Hip            uint8\n",
       "roof_style_Mansard        uint8\n",
       "roof_style_Shed           uint8\n",
       "roof_matl_CompShg         uint8\n",
       "roof_matl_Membran         uint8\n",
       "roof_matl_Tar&Grv         uint8\n",
       "roof_matl_WdShake         uint8\n",
       "roof_matl_WdShngl         uint8\n",
       "exterior_1st_AsphShn      uint8\n",
       "exterior_1st_BrkComm      uint8\n",
       "exterior_1st_BrkFace      uint8\n",
       "exterior_1st_CBlock       uint8\n",
       "exterior_1st_CemntBd      uint8\n",
       "exterior_1st_HdBoard      uint8\n",
       "exterior_1st_ImStucc      uint8\n",
       "exterior_1st_MetalSd      uint8\n",
       "exterior_1st_Plywood      uint8\n",
       "exterior_1st_Stone        uint8\n",
       "exterior_1st_Stucco       uint8\n",
       "exterior_1st_VinylSd      uint8\n",
       "exterior_1st_Wd Sdng      uint8\n",
       "exterior_1st_WdShing      uint8\n",
       "exterior_2nd_AsphShn      uint8\n",
       "exterior_2nd_Brk Cmn      uint8\n",
       "exterior_2nd_BrkFace      uint8\n",
       "exterior_2nd_CBlock       uint8\n",
       "exterior_2nd_CmentBd      uint8\n",
       "exterior_2nd_HdBoard      uint8\n",
       "exterior_2nd_ImStucc      uint8\n",
       "exterior_2nd_MetalSd      uint8\n",
       "exterior_2nd_Plywood      uint8\n",
       "exterior_2nd_Stone        uint8\n",
       "exterior_2nd_Stucco       uint8\n",
       "exterior_2nd_VinylSd      uint8\n",
       "exterior_2nd_Wd Sdng      uint8\n",
       "exterior_2nd_Wd Shng      uint8\n",
       "mas_vnr_type_BrkFace      uint8\n",
       "mas_vnr_type_None         uint8\n",
       "mas_vnr_type_Stone        uint8\n",
       "foundation_CBlock         uint8\n",
       "foundation_PConc          uint8\n",
       "foundation_Slab           uint8\n",
       "foundation_Stone          uint8\n",
       "foundation_Wood           uint8\n",
       "heating_GasW              uint8\n",
       "heating_Grav              uint8\n",
       "heating_OthW              uint8\n",
       "heating_Wall              uint8\n",
       "central_air_Y             uint8\n",
       "garage_type_Attchd        uint8\n",
       "garage_type_Basment       uint8\n",
       "garage_type_BuiltIn       uint8\n",
       "garage_type_CarPort       uint8\n",
       "garage_type_Detchd        uint8\n",
       "garage_type_NA            uint8\n",
       "misc_feature_Gar2         uint8\n",
       "misc_feature_NA           uint8\n",
       "misc_feature_Othr         uint8\n",
       "misc_feature_Shed         uint8\n",
       "misc_feature_TenC         uint8\n",
       "dtype: object"
      ]
     },
     "execution_count": 10,
     "metadata": {},
     "output_type": "execute_result"
    }
   ],
   "source": [
    "train_new.dtypes"
   ]
  },
  {
   "cell_type": "markdown",
   "metadata": {},
   "source": [
    "Datatype Correction:"
   ]
  },
  {
   "cell_type": "code",
   "execution_count": 11,
   "metadata": {},
   "outputs": [],
   "source": [
    "def dtype_corr(df):\n",
    "    df[['lot_frontage']]=df[['lot_frontage']].astype(int)\n",
    "    df[['utilities']]=df[['utilities']].astype(int)\n",
    "    df[['mas_vnr_area']]=df[['mas_vnr_area']].astype(int)\n",
    "    df[['exter_qual']]=df[['exter_qual']].astype(int)\n",
    "    df[['bsmtfin_sf_1']]=df[['bsmtfin_sf_1']].astype(int)\n",
    "    df[['bsmt_unf_sf']]=df[['bsmt_unf_sf']].astype(int)\n",
    "    df[['total_bsmt_sf']]=df[['total_bsmt_sf']].astype(int)\n",
    "    df[['bsmt_full_bath']]=df[['bsmt_full_bath']].astype(int)\n",
    "    df[['bsmt_half_bath']]=df[['bsmt_half_bath']].astype(int)\n",
    "    df[['kitchen_qual']]=df[['kitchen_qual']].astype(int)\n",
    "    df[['garage_yr_blt']]=df[['garage_yr_blt']].astype(int)\n",
    "    df[['garage_cars']]=df[['garage_cars']].astype(int)\n",
    "    return None \n",
    "\n",
    "dtype_corr(train_new)"
   ]
  },
  {
   "cell_type": "code",
   "execution_count": 12,
   "metadata": {},
   "outputs": [
    {
     "data": {
      "text/plain": [
       "0"
      ]
     },
     "execution_count": 12,
     "metadata": {},
     "output_type": "execute_result"
    }
   ],
   "source": [
    "max(train_new.isnull().sum())"
   ]
  },
  {
   "cell_type": "code",
   "execution_count": 13,
   "metadata": {},
   "outputs": [],
   "source": [
    "train_new.to_csv('../datasets/train_new.csv', index = False)"
   ]
  }
 ],
 "metadata": {
  "kernelspec": {
   "display_name": "Python 3",
   "language": "python",
   "name": "python3"
  },
  "language_info": {
   "codemirror_mode": {
    "name": "ipython",
    "version": 3
   },
   "file_extension": ".py",
   "mimetype": "text/x-python",
   "name": "python",
   "nbconvert_exporter": "python",
   "pygments_lexer": "ipython3",
   "version": "3.6.8"
  }
 },
 "nbformat": 4,
 "nbformat_minor": 2
}
