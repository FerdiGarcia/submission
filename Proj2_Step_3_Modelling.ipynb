{
 "cells": [
  {
   "cell_type": "markdown",
   "metadata": {},
   "source": [
    "Proj_2 Modelling"
   ]
  },
  {
   "cell_type": "markdown",
   "metadata": {},
   "source": [
    "Load Libraries:"
   ]
  },
  {
   "cell_type": "code",
   "execution_count": 40,
   "metadata": {},
   "outputs": [],
   "source": [
    "import pandas as pd\n",
    "import numpy as np\n",
    "import seaborn as sns\n",
    "import matplotlib.pyplot as plt\n",
    "from sklearn.model_selection import train_test_split, cross_val_score\n",
    "from sklearn.linear_model import LinearRegression, LassoCV, RidgeCV\n",
    "from sklearn.preprocessing import StandardScaler\n",
    "from sklearn.metrics import r2_score\n",
    "\n",
    "%matplotlib inline\n",
    "\n",
    "pd.options.display.max_rows=2000\n",
    "import warnings\n",
    "warnings.simplefilter(action='ignore', category=FutureWarning)"
   ]
  },
  {
   "cell_type": "markdown",
   "metadata": {},
   "source": [
    "Load Cleaned Source Files: "
   ]
  },
  {
   "cell_type": "code",
   "execution_count": 9,
   "metadata": {},
   "outputs": [],
   "source": [
    "# Reading in Cleaned csv's\n",
    "train_new = pd.read_csv('../datasets/train_new.csv')\n",
    "test_new = pd.read_csv('../datasets/test_new.csv')"
   ]
  },
  {
   "cell_type": "code",
   "execution_count": 10,
   "metadata": {},
   "outputs": [
    {
     "data": {
      "text/plain": [
       "((2051, 165), (879, 156))"
      ]
     },
     "execution_count": 10,
     "metadata": {},
     "output_type": "execute_result"
    }
   ],
   "source": [
    "train_new.shape, test_new.shape"
   ]
  },
  {
   "cell_type": "code",
   "execution_count": 37,
   "metadata": {},
   "outputs": [
    {
     "data": {
      "text/plain": [
       "id                        int64\n",
       "pid                       int64\n",
       "ms_subclass               int64\n",
       "lot_frontage              int64\n",
       "lot_area                  int64\n",
       "lot_shape                 int64\n",
       "utilities                 int64\n",
       "land_slope                int64\n",
       "overall_qual              int64\n",
       "overall_cond              int64\n",
       "year_built                int64\n",
       "year_remod_add            int64\n",
       "mas_vnr_area              int64\n",
       "exter_qual                int64\n",
       "exter_cond                int64\n",
       "bsmt_qual                 int64\n",
       "bsmt_cond                 int64\n",
       "bsmt_exposure             int64\n",
       "bsmtfin_type_1            int64\n",
       "bsmtfin_sf_1              int64\n",
       "bsmtfin_type_2            int64\n",
       "bsmtfin_sf_2              int64\n",
       "bsmt_unf_sf               int64\n",
       "total_bsmt_sf             int64\n",
       "heating_qc                int64\n",
       "electrical              float64\n",
       "1st_flr_sf                int64\n",
       "2nd_flr_sf                int64\n",
       "low_qual_fin_sf           int64\n",
       "gr_liv_area               int64\n",
       "bsmt_full_bath            int64\n",
       "bsmt_half_bath            int64\n",
       "full_bath                 int64\n",
       "half_bath                 int64\n",
       "bedroom_abvgr             int64\n",
       "kitchen_abvgr             int64\n",
       "kitchen_qual              int64\n",
       "totrms_abvgrd             int64\n",
       "functional                int64\n",
       "fireplaces                int64\n",
       "fireplace_qu              int64\n",
       "garage_yr_blt             int64\n",
       "garage_finish             int64\n",
       "garage_cars               int64\n",
       "garage_area               int64\n",
       "garage_qual               int64\n",
       "garage_cond               int64\n",
       "paved_drive               int64\n",
       "wood_deck_sf              int64\n",
       "open_porch_sf             int64\n",
       "enclosed_porch            int64\n",
       "3ssn_porch                int64\n",
       "screen_porch              int64\n",
       "pool_area                 int64\n",
       "pool_qc                   int64\n",
       "fence                     int64\n",
       "misc_val                  int64\n",
       "mo_sold                   int64\n",
       "yr_sold                   int64\n",
       "ms_zoning_FV              int64\n",
       "ms_zoning_I (all)         int64\n",
       "ms_zoning_RH              int64\n",
       "ms_zoning_RL              int64\n",
       "ms_zoning_RM              int64\n",
       "street_Pave               int64\n",
       "land_contour_HLS          int64\n",
       "land_contour_Low          int64\n",
       "land_contour_Lvl          int64\n",
       "lot_config_CulDSac        int64\n",
       "lot_config_FR2            int64\n",
       "lot_config_FR3            int64\n",
       "lot_config_Inside         int64\n",
       "condition_1_Feedr         int64\n",
       "condition_1_Norm          int64\n",
       "condition_1_PosA          int64\n",
       "condition_1_PosN          int64\n",
       "condition_1_RRAe          int64\n",
       "condition_1_RRAn          int64\n",
       "condition_1_RRNe          int64\n",
       "condition_1_RRNn          int64\n",
       "condition_2_Norm          int64\n",
       "condition_2_PosA          int64\n",
       "condition_2_PosN          int64\n",
       "bldg_type_2fmCon          int64\n",
       "bldg_type_Duplex          int64\n",
       "bldg_type_Twnhs           int64\n",
       "bldg_type_TwnhsE          int64\n",
       "house_style_1.5Unf        int64\n",
       "house_style_1Story        int64\n",
       "house_style_2.5Fin        int64\n",
       "house_style_2.5Unf        int64\n",
       "house_style_2Story        int64\n",
       "house_style_SFoyer        int64\n",
       "house_style_SLvl          int64\n",
       "roof_style_Gable          int64\n",
       "roof_style_Gambrel        int64\n",
       "roof_style_Hip            int64\n",
       "roof_style_Mansard        int64\n",
       "roof_style_Shed           int64\n",
       "roof_matl_Metal           int64\n",
       "roof_matl_Roll            int64\n",
       "roof_matl_Tar&Grv         int64\n",
       "roof_matl_WdShake         int64\n",
       "roof_matl_WdShngl         int64\n",
       "exterior_1st_AsphShn      int64\n",
       "exterior_1st_BrkComm      int64\n",
       "exterior_1st_BrkFace      int64\n",
       "exterior_1st_CemntBd      int64\n",
       "exterior_1st_HdBoard      int64\n",
       "exterior_1st_MetalSd      int64\n",
       "exterior_1st_Plywood      int64\n",
       "exterior_1st_PreCast      int64\n",
       "exterior_1st_Stucco       int64\n",
       "exterior_1st_VinylSd      int64\n",
       "exterior_1st_Wd Sdng      int64\n",
       "exterior_1st_WdShing      int64\n",
       "exterior_2nd_AsphShn      int64\n",
       "exterior_2nd_Brk Cmn      int64\n",
       "exterior_2nd_BrkFace      int64\n",
       "exterior_2nd_CBlock       int64\n",
       "exterior_2nd_CmentBd      int64\n",
       "exterior_2nd_HdBoard      int64\n",
       "exterior_2nd_ImStucc      int64\n",
       "exterior_2nd_MetalSd      int64\n",
       "exterior_2nd_Other        int64\n",
       "exterior_2nd_Plywood      int64\n",
       "exterior_2nd_PreCast      int64\n",
       "exterior_2nd_Stucco       int64\n",
       "exterior_2nd_VinylSd      int64\n",
       "exterior_2nd_Wd Sdng      int64\n",
       "exterior_2nd_Wd Shng      int64\n",
       "mas_vnr_type_BrkFace      int64\n",
       "mas_vnr_type_CBlock       int64\n",
       "mas_vnr_type_None         int64\n",
       "mas_vnr_type_Stone        int64\n",
       "foundation_CBlock         int64\n",
       "foundation_PConc          int64\n",
       "foundation_Slab           int64\n",
       "foundation_Stone          int64\n",
       "foundation_Wood           int64\n",
       "heating_GasA              int64\n",
       "heating_GasW              int64\n",
       "heating_Grav              int64\n",
       "central_air_Y             int64\n",
       "garage_type_Attchd        int64\n",
       "garage_type_Basment       int64\n",
       "garage_type_BuiltIn       int64\n",
       "garage_type_CarPort       int64\n",
       "garage_type_Detchd        int64\n",
       "garage_type_NA            int64\n",
       "misc_feature_NA           int64\n",
       "misc_feature_Othr         int64\n",
       "misc_feature_Shed         int64\n",
       "dtype: object"
      ]
     },
     "execution_count": 37,
     "metadata": {},
     "output_type": "execute_result"
    }
   ],
   "source": [
    "test_new.dtypes"
   ]
  },
  {
   "cell_type": "code",
   "execution_count": 36,
   "metadata": {},
   "outputs": [],
   "source": [
    "test_new.drop(['alley', 'neighborhood','sale_type'], axis=1, inplace =True)\n"
   ]
  },
  {
   "cell_type": "code",
   "execution_count": 11,
   "metadata": {},
   "outputs": [
    {
     "data": {
      "text/plain": [
       "id                         0\n",
       "pid                        0\n",
       "ms_subclass                0\n",
       "lot_frontage               0\n",
       "lot_area                   0\n",
       "alley                   1911\n",
       "lot_shape                  0\n",
       "utilities                  0\n",
       "land_slope                 0\n",
       "neighborhood               0\n",
       "overall_qual               0\n",
       "overall_cond               0\n",
       "year_built                 0\n",
       "year_remod_add             0\n",
       "mas_vnr_area               0\n",
       "exter_qual                 0\n",
       "exter_cond                 0\n",
       "bsmt_qual                  0\n",
       "bsmt_cond                  0\n",
       "bsmt_exposure              0\n",
       "bsmtfin_type_1             0\n",
       "bsmtfin_sf_1               0\n",
       "bsmtfin_type_2             0\n",
       "bsmtfin_sf_2               0\n",
       "bsmt_unf_sf                0\n",
       "total_bsmt_sf              0\n",
       "heating_qc                 0\n",
       "electrical                 0\n",
       "1st_flr_sf                 0\n",
       "2nd_flr_sf                 0\n",
       "                        ... \n",
       "exterior_2nd_Plywood       0\n",
       "exterior_2nd_Stone         0\n",
       "exterior_2nd_Stucco        0\n",
       "exterior_2nd_VinylSd       0\n",
       "exterior_2nd_Wd Sdng       0\n",
       "exterior_2nd_Wd Shng       0\n",
       "mas_vnr_type_BrkFace       0\n",
       "mas_vnr_type_None          0\n",
       "mas_vnr_type_Stone         0\n",
       "foundation_CBlock          0\n",
       "foundation_PConc           0\n",
       "foundation_Slab            0\n",
       "foundation_Stone           0\n",
       "foundation_Wood            0\n",
       "heating_GasW               0\n",
       "heating_Grav               0\n",
       "heating_OthW               0\n",
       "heating_Wall               0\n",
       "central_air_Y              0\n",
       "garage_type_Attchd         0\n",
       "garage_type_Basment        0\n",
       "garage_type_BuiltIn        0\n",
       "garage_type_CarPort        0\n",
       "garage_type_Detchd         0\n",
       "garage_type_NA             0\n",
       "misc_feature_Gar2          0\n",
       "misc_feature_NA            0\n",
       "misc_feature_Othr          0\n",
       "misc_feature_Shed          0\n",
       "misc_feature_TenC          0\n",
       "Length: 165, dtype: int64"
      ]
     },
     "execution_count": 11,
     "metadata": {},
     "output_type": "execute_result"
    }
   ],
   "source": [
    "train_new.isnull().sum()    #All columns = zero null  "
   ]
  },
  {
   "cell_type": "code",
   "execution_count": 13,
   "metadata": {},
   "outputs": [],
   "source": [
    "numerical_columns = train_new._get_numeric_data().columns\n",
    "features = [col for col in numerical_columns if col != 'saleprice']\n",
    "\n",
    "# initial split of X and y\n",
    "X = train_new[features]\n",
    "y = train_new['saleprice']"
   ]
  },
  {
   "cell_type": "code",
   "execution_count": 17,
   "metadata": {},
   "outputs": [],
   "source": [
    "# Run test_split:\n",
    "X_train, X_test, y_train, y_test = train_test_split(X, y,\n",
    "                                                   random_state=42)\n"
   ]
  },
  {
   "cell_type": "markdown",
   "metadata": {},
   "source": [
    "Scandard Scaler (SS)"
   ]
  },
  {
   "cell_type": "code",
   "execution_count": 18,
   "metadata": {},
   "outputs": [
    {
     "name": "stderr",
     "output_type": "stream",
     "text": [
      "C:\\Users\\FCG\\Anaconda3\\lib\\site-packages\\sklearn\\preprocessing\\data.py:645: DataConversionWarning: Data with input dtype int64, float64 were all converted to float64 by StandardScaler.\n",
      "  return self.partial_fit(X, y)\n",
      "C:\\Users\\FCG\\Anaconda3\\lib\\site-packages\\ipykernel_launcher.py:4: DataConversionWarning: Data with input dtype int64, float64 were all converted to float64 by StandardScaler.\n",
      "  after removing the cwd from sys.path.\n",
      "C:\\Users\\FCG\\Anaconda3\\lib\\site-packages\\ipykernel_launcher.py:5: DataConversionWarning: Data with input dtype int64, float64 were all converted to float64 by StandardScaler.\n",
      "  \"\"\"\n"
     ]
    }
   ],
   "source": [
    "# instantiate StandardScaler for original features:\n",
    "ss = StandardScaler()\n",
    "ss.fit(X_train)\n",
    "X_train_sc = ss.transform(X_train)\n",
    "X_test_sc = ss.transform(X_test)\n"
   ]
  },
  {
   "cell_type": "markdown",
   "metadata": {},
   "source": [
    "Linear Regression (LR)"
   ]
  },
  {
   "cell_type": "code",
   "execution_count": 19,
   "metadata": {},
   "outputs": [],
   "source": [
    "lr = LinearRegression()\n",
    "lr_overfit = LinearRegression()\n",
    "\n",
    "lasso = LassoCV(max_iter=10000)\n",
    "lasso_overfit = LassoCV(max_iter=10000)\n",
    "\n",
    "r_alphas = np.logspace(0, 5, 200)\n",
    "ridge = RidgeCV(alphas=r_alphas)\n",
    "ridge_overfit = RidgeCV(alphas=r_alphas)"
   ]
  },
  {
   "cell_type": "code",
   "execution_count": 20,
   "metadata": {},
   "outputs": [
    {
     "name": "stdout",
     "output_type": "stream",
     "text": [
      "lr cross_val_score -1.916595254303178e+23\n",
      "lr train r2 = 0.9164822740940237\n",
      "lr test r2 = -3.347898403916816e+21\n"
     ]
    },
    {
     "data": {
      "image/png": "[encoded data removed]",
      "text/plain": [
       "<Figure size 432x288 with 1 Axes>"
      ]
     },
     "metadata": {
      "needs_background": "light"
     },
     "output_type": "display_data"
    }
   ],
   "source": [
    "#LR Test\n",
    "print(\"lr cross_val_score\", cross_val_score(lr, X_train_sc, y_train, cv=3).mean())\n",
    "\n",
    "lr.fit(X_train_sc, y_train)\n",
    "\n",
    "print('lr train r2 =', lr.score(X_train_sc, y_train))\n",
    "\n",
    "print('lr test r2 =', lr.score(X_test_sc, y_test))\n",
    "\n",
    "lr_preds = lr.predict(X_test_sc)\n",
    "\n",
    "lr_residuals = y_test - lr_preds\n",
    "\n",
    "lr_residuals.hist()\n",
    "plt.xlabel('lr_residuals');"
   ]
  },
  {
   "cell_type": "markdown",
   "metadata": {},
   "source": [
    "Lasso Test"
   ]
  },
  {
   "cell_type": "code",
   "execution_count": 23,
   "metadata": {},
   "outputs": [
    {
     "name": "stderr",
     "output_type": "stream",
     "text": [
      "C:\\Users\\FCG\\Anaconda3\\lib\\site-packages\\sklearn\\model_selection\\_split.py:2053: FutureWarning: You should specify a value for 'cv' instead of relying on the default value. The default value will change from 3 to 5 in version 0.22.\n",
      "  warnings.warn(CV_WARNING, FutureWarning)\n",
      "C:\\Users\\FCG\\Anaconda3\\lib\\site-packages\\sklearn\\model_selection\\_split.py:2053: FutureWarning: You should specify a value for 'cv' instead of relying on the default value. The default value will change from 3 to 5 in version 0.22.\n",
      "  warnings.warn(CV_WARNING, FutureWarning)\n",
      "C:\\Users\\FCG\\Anaconda3\\lib\\site-packages\\sklearn\\model_selection\\_split.py:2053: FutureWarning: You should specify a value for 'cv' instead of relying on the default value. The default value will change from 3 to 5 in version 0.22.\n",
      "  warnings.warn(CV_WARNING, FutureWarning)\n",
      "C:\\Users\\FCG\\Anaconda3\\lib\\site-packages\\sklearn\\model_selection\\_split.py:2053: FutureWarning: You should specify a value for 'cv' instead of relying on the default value. The default value will change from 3 to 5 in version 0.22.\n",
      "  warnings.warn(CV_WARNING, FutureWarning)\n"
     ]
    },
    {
     "name": "stdout",
     "output_type": "stream",
     "text": [
      "lasso cross_val_score 0.7505034844412631\n",
      "lasso train r2 = 0.8251216147160587\n",
      "lasso test r2 = 0.8672311104401617\n"
     ]
    },
    {
     "data": {
      "image/png": "[encoded data removed]",
      "text/plain": [
       "<Figure size 432x288 with 1 Axes>"
      ]
     },
     "metadata": {
      "needs_background": "light"
     },
     "output_type": "display_data"
    }
   ],
   "source": [
    "print(\"lasso cross_val_score\", cross_val_score(lasso, X_train_sc, y_train, cv=3).mean())\n",
    "\n",
    "lasso.fit(X_train_sc, y_train)\n",
    "\n",
    "print('lasso train r2 =', lasso.score(X_train_sc, y_train))\n",
    "\n",
    "print('lasso test r2 =', lasso.score(X_test_sc, y_test))\n",
    "\n",
    "lasso_preds = lasso.predict(X_test_sc)\n",
    "\n",
    "lasso_residuals = y_test - lasso_preds\n",
    "\n",
    "lasso_residuals.hist()\n",
    "plt.xlabel('lasso_residuals');"
   ]
  },
  {
   "cell_type": "markdown",
   "metadata": {},
   "source": [
    "Ridge Test"
   ]
  },
  {
   "cell_type": "code",
   "execution_count": 26,
   "metadata": {},
   "outputs": [
    {
     "name": "stdout",
     "output_type": "stream",
     "text": [
      "ridge cross_val_score 0.7867088504124095\n",
      "ridge train r2 = 0.867057210935511\n",
      "ridge test r2 = 0.8693424594016553\n"
     ]
    },
    {
     "data": {
      "image/png": "[encoded data removed]",
      "text/plain": [
       "<Figure size 432x288 with 1 Axes>"
      ]
     },
     "metadata": {
      "needs_background": "light"
     },
     "output_type": "display_data"
    }
   ],
   "source": [
    "print(\"ridge cross_val_score\", cross_val_score(ridge, X_train_sc, y_train, cv=3).mean())\n",
    "\n",
    "ridge.fit(X_train_sc, y_train)\n",
    "\n",
    "print('ridge train r2 =', ridge.score(X_train_sc, y_train))\n",
    "\n",
    "print('ridge test r2 =', ridge.score(X_test_sc, y_test))\n",
    "\n",
    "ridge_preds = ridge.predict(X_test_sc)\n",
    "\n",
    "ridge_residuals = y_test - ridge_preds\n",
    "\n",
    "ridge_residuals.hist()\n",
    "plt.xlabel('ridge_residuals');"
   ]
  },
  {
   "cell_type": "markdown",
   "metadata": {},
   "source": [
    "Predicting and Submitting"
   ]
  },
  {
   "cell_type": "code",
   "execution_count": 42,
   "metadata": {},
   "outputs": [
    {
     "data": {
      "text/plain": [
       "Index(['id', 'pid', 'ms_subclass', 'lot_frontage', 'lot_area', 'lot_shape',\n",
       "       'utilities', 'land_slope', 'overall_qual', 'overall_cond',\n",
       "       ...\n",
       "       'central_air_Y', 'garage_type_Attchd', 'garage_type_Basment',\n",
       "       'garage_type_BuiltIn', 'garage_type_CarPort', 'garage_type_Detchd',\n",
       "       'garage_type_NA', 'misc_feature_NA', 'misc_feature_Othr',\n",
       "       'misc_feature_Shed'],\n",
       "      dtype='object', length=153)"
      ]
     },
     "execution_count": 42,
     "metadata": {},
     "output_type": "execute_result"
    }
   ],
   "source": [
    "test_new.columns"
   ]
  },
  {
   "cell_type": "code",
   "execution_count": 43,
   "metadata": {},
   "outputs": [
    {
     "data": {
      "text/plain": [
       "['id',\n",
       " 'pid',\n",
       " 'ms_subclass',\n",
       " 'lot_frontage',\n",
       " 'lot_area',\n",
       " 'lot_shape',\n",
       " 'utilities',\n",
       " 'land_slope',\n",
       " 'overall_qual',\n",
       " 'overall_cond',\n",
       " 'year_built',\n",
       " 'year_remod_add',\n",
       " 'mas_vnr_area',\n",
       " 'exter_qual',\n",
       " 'exter_cond',\n",
       " 'bsmt_qual',\n",
       " 'bsmt_cond',\n",
       " 'bsmt_exposure',\n",
       " 'bsmtfin_type_1',\n",
       " 'bsmtfin_sf_1',\n",
       " 'bsmtfin_type_2',\n",
       " 'bsmtfin_sf_2',\n",
       " 'bsmt_unf_sf',\n",
       " 'total_bsmt_sf',\n",
       " 'heating_qc',\n",
       " 'electrical',\n",
       " '1st_flr_sf',\n",
       " '2nd_flr_sf',\n",
       " 'low_qual_fin_sf',\n",
       " 'gr_liv_area',\n",
       " 'bsmt_full_bath',\n",
       " 'bsmt_half_bath',\n",
       " 'full_bath',\n",
       " 'half_bath',\n",
       " 'bedroom_abvgr',\n",
       " 'kitchen_abvgr',\n",
       " 'kitchen_qual',\n",
       " 'totrms_abvgrd',\n",
       " 'functional',\n",
       " 'fireplaces',\n",
       " 'fireplace_qu',\n",
       " 'garage_yr_blt',\n",
       " 'garage_finish',\n",
       " 'garage_cars',\n",
       " 'garage_area',\n",
       " 'garage_qual',\n",
       " 'garage_cond',\n",
       " 'paved_drive',\n",
       " 'wood_deck_sf',\n",
       " 'open_porch_sf',\n",
       " 'enclosed_porch',\n",
       " '3ssn_porch',\n",
       " 'screen_porch',\n",
       " 'pool_area',\n",
       " 'pool_qc',\n",
       " 'fence',\n",
       " 'misc_val',\n",
       " 'mo_sold',\n",
       " 'yr_sold',\n",
       " 'ms_zoning_C (all)',\n",
       " 'ms_zoning_FV',\n",
       " 'ms_zoning_I (all)',\n",
       " 'ms_zoning_RH',\n",
       " 'ms_zoning_RL',\n",
       " 'ms_zoning_RM',\n",
       " 'street_Pave',\n",
       " 'land_contour_HLS',\n",
       " 'land_contour_Low',\n",
       " 'land_contour_Lvl',\n",
       " 'lot_config_CulDSac',\n",
       " 'lot_config_FR2',\n",
       " 'lot_config_FR3',\n",
       " 'lot_config_Inside',\n",
       " 'condition_1_Feedr',\n",
       " 'condition_1_Norm',\n",
       " 'condition_1_PosA',\n",
       " 'condition_1_PosN',\n",
       " 'condition_1_RRAe',\n",
       " 'condition_1_RRAn',\n",
       " 'condition_1_RRNe',\n",
       " 'condition_1_RRNn',\n",
       " 'condition_2_Feedr',\n",
       " 'condition_2_Norm',\n",
       " 'condition_2_PosA',\n",
       " 'condition_2_PosN',\n",
       " 'condition_2_RRAe',\n",
       " 'condition_2_RRAn',\n",
       " 'condition_2_RRNn',\n",
       " 'bldg_type_2fmCon',\n",
       " 'bldg_type_Duplex',\n",
       " 'bldg_type_Twnhs',\n",
       " 'bldg_type_TwnhsE',\n",
       " 'house_style_1.5Unf',\n",
       " 'house_style_1Story',\n",
       " 'house_style_2.5Fin',\n",
       " 'house_style_2.5Unf',\n",
       " 'house_style_2Story',\n",
       " 'house_style_SFoyer',\n",
       " 'house_style_SLvl',\n",
       " 'roof_style_Gable',\n",
       " 'roof_style_Gambrel',\n",
       " 'roof_style_Hip',\n",
       " 'roof_style_Mansard',\n",
       " 'roof_style_Shed',\n",
       " 'roof_matl_CompShg',\n",
       " 'roof_matl_Membran',\n",
       " 'roof_matl_Tar&Grv',\n",
       " 'roof_matl_WdShake',\n",
       " 'roof_matl_WdShngl',\n",
       " 'exterior_1st_AsphShn',\n",
       " 'exterior_1st_BrkComm',\n",
       " 'exterior_1st_BrkFace',\n",
       " 'exterior_1st_CBlock',\n",
       " 'exterior_1st_CemntBd',\n",
       " 'exterior_1st_HdBoard',\n",
       " 'exterior_1st_ImStucc',\n",
       " 'exterior_1st_MetalSd',\n",
       " 'exterior_1st_Plywood',\n",
       " 'exterior_1st_Stone',\n",
       " 'exterior_1st_Stucco',\n",
       " 'exterior_1st_VinylSd',\n",
       " 'exterior_1st_Wd Sdng',\n",
       " 'exterior_1st_WdShing',\n",
       " 'exterior_2nd_AsphShn',\n",
       " 'exterior_2nd_Brk Cmn',\n",
       " 'exterior_2nd_BrkFace',\n",
       " 'exterior_2nd_CBlock',\n",
       " 'exterior_2nd_CmentBd',\n",
       " 'exterior_2nd_HdBoard',\n",
       " 'exterior_2nd_ImStucc',\n",
       " 'exterior_2nd_MetalSd',\n",
       " 'exterior_2nd_Plywood',\n",
       " 'exterior_2nd_Stone',\n",
       " 'exterior_2nd_Stucco',\n",
       " 'exterior_2nd_VinylSd',\n",
       " 'exterior_2nd_Wd Sdng',\n",
       " 'exterior_2nd_Wd Shng',\n",
       " 'mas_vnr_type_BrkFace',\n",
       " 'mas_vnr_type_None',\n",
       " 'mas_vnr_type_Stone',\n",
       " 'foundation_CBlock',\n",
       " 'foundation_PConc',\n",
       " 'foundation_Slab',\n",
       " 'foundation_Stone',\n",
       " 'foundation_Wood',\n",
       " 'heating_GasW',\n",
       " 'heating_Grav',\n",
       " 'heating_OthW',\n",
       " 'heating_Wall',\n",
       " 'central_air_Y',\n",
       " 'garage_type_Attchd',\n",
       " 'garage_type_Basment',\n",
       " 'garage_type_BuiltIn',\n",
       " 'garage_type_CarPort',\n",
       " 'garage_type_Detchd',\n",
       " 'garage_type_NA',\n",
       " 'misc_feature_Gar2',\n",
       " 'misc_feature_NA',\n",
       " 'misc_feature_Othr',\n",
       " 'misc_feature_Shed',\n",
       " 'misc_feature_TenC']"
      ]
     },
     "execution_count": 43,
     "metadata": {},
     "output_type": "execute_result"
    }
   ],
   "source": [
    "features"
   ]
  },
  {
   "cell_type": "code",
   "execution_count": 45,
   "metadata": {},
   "outputs": [],
   "source": [
    "#"
   ]
  },
  {
   "cell_type": "code",
   "execution_count": 44,
   "metadata": {},
   "outputs": [],
   "source": [
    "#"
   ]
  }
 ],
 "metadata": {
  "kernelspec": {
   "display_name": "Python 3",
   "language": "python",
   "name": "python3"
  },
  "language_info": {
   "codemirror_mode": {
    "name": "ipython",
    "version": 3
   },
   "file_extension": ".py",
   "mimetype": "text/x-python",
   "name": "python",
   "nbconvert_exporter": "python",
   "pygments_lexer": "ipython3",
   "version": "3.6.8"
  }
 },
 "nbformat": 4,
 "nbformat_minor": 2
}
