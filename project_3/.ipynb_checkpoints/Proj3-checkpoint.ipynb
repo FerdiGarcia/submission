{
 "cells": [
  {
   "cell_type": "markdown",
   "metadata": {},
   "source": [
    "# Project 3 - Project 3: Web APIs & Classification"
   ]
  },
  {
   "cell_type": "markdown",
   "metadata": {},
   "source": [
    "#### Import Libraries"
   ]
  },
  {
   "cell_type": "code",
   "execution_count": 9,
   "metadata": {},
   "outputs": [],
   "source": [
    "import numpy as np\n",
    "import pandas as pd\n",
    "import statistics as st\n",
    "import matplotlib.pyplot as plt\n",
    "import math as math\n",
    "import seaborn as sns\n",
    "import re\n",
    "\n",
    "from sklearn.preprocessing import StandardScaler, minmax_scale\n",
    "from sklearn.linear_model import LogisticRegression\n",
    "from sklearn.feature_extraction.text import CountVectorizer, TfidfTransformer, TfidfVectorizer \n",
    "from sklearn.model_selection import train_test_split, GridSearchCV, cross_val_score, ShuffleSplit, learning_curve\n",
    "from sklearn.metrics import classification_report\n",
    "from sklearn.naive_bayes import MultinomialNB, BernoulliNB, GaussianNB\n",
    "from sklearn.pipeline import Pipeline\n",
    "\n",
    "from bs4 import BeautifulSoup   \n",
    "\n",
    "from nltk.corpus import stopwords \n",
    "from nltk.tokenize import word_tokenize \n",
    "\n",
    "%matplotlib inline\n",
    "\n",
    "sns.set_style(\"darkgrid\")"
   ]
  },
  {
   "cell_type": "markdown",
   "metadata": {},
   "source": [
    "#### Load .csv File (ManU FC vs NBA Redit subreddit chats)"
   ]
  },
  {
   "cell_type": "code",
   "execution_count": 10,
   "metadata": {},
   "outputs": [],
   "source": [
    "posts = pd.read_csv('./datasets/posts_MUFC_NBA_V2.csv')"
   ]
  },
  {
   "cell_type": "code",
   "execution_count": 11,
   "metadata": {},
   "outputs": [
    {
     "data": {
      "text/plain": [
       "subreddit     int64\n",
       "message      object\n",
       "dtype: object"
      ]
     },
     "execution_count": 11,
     "metadata": {},
     "output_type": "execute_result"
    }
   ],
   "source": [
    "posts.dtypes"
   ]
  },
  {
   "cell_type": "code",
   "execution_count": 12,
   "metadata": {},
   "outputs": [
    {
     "data": {
      "text/html": [
       "<div>\n",
       "<style scoped>\n",
       "    .dataframe tbody tr th:only-of-type {\n",
       "        vertical-align: middle;\n",
       "    }\n",
       "\n",
       "    .dataframe tbody tr th {\n",
       "        vertical-align: top;\n",
       "    }\n",
       "\n",
       "    .dataframe thead th {\n",
       "        text-align: right;\n",
       "    }\n",
       "</style>\n",
       "<table border=\"1\" class=\"dataframe\">\n",
       "  <thead>\n",
       "    <tr style=\"text-align: right;\">\n",
       "      <th></th>\n",
       "      <th>message</th>\n",
       "    </tr>\n",
       "    <tr>\n",
       "      <th>subreddit</th>\n",
       "      <th></th>\n",
       "    </tr>\n",
       "  </thead>\n",
       "  <tbody>\n",
       "    <tr>\n",
       "      <th>0</th>\n",
       "      <td>768</td>\n",
       "    </tr>\n",
       "    <tr>\n",
       "      <th>1</th>\n",
       "      <td>753</td>\n",
       "    </tr>\n",
       "  </tbody>\n",
       "</table>\n",
       "</div>"
      ],
      "text/plain": [
       "           message\n",
       "subreddit         \n",
       "0              768\n",
       "1              753"
      ]
     },
     "execution_count": 12,
     "metadata": {},
     "output_type": "execute_result"
    }
   ],
   "source": [
    "posts.groupby('subreddit').count()"
   ]
  },
  {
   "cell_type": "markdown",
   "metadata": {},
   "source": [
    "##### Cleaning Input"
   ]
  },
  {
   "cell_type": "code",
   "execution_count": 13,
   "metadata": {},
   "outputs": [
    {
     "data": {
      "text/html": [
       "<div>\n",
       "<style scoped>\n",
       "    .dataframe tbody tr th:only-of-type {\n",
       "        vertical-align: middle;\n",
       "    }\n",
       "\n",
       "    .dataframe tbody tr th {\n",
       "        vertical-align: top;\n",
       "    }\n",
       "\n",
       "    .dataframe thead th {\n",
       "        text-align: right;\n",
       "    }\n",
       "</style>\n",
       "<table border=\"1\" class=\"dataframe\">\n",
       "  <thead>\n",
       "    <tr style=\"text-align: right;\">\n",
       "      <th></th>\n",
       "      <th>subreddit</th>\n",
       "      <th>message</th>\n",
       "    </tr>\n",
       "  </thead>\n",
       "  <tbody>\n",
       "    <tr>\n",
       "      <th>0</th>\n",
       "      <td>1</td>\n",
       "      <td>draymond green is one tech away from being sus...</td>\n",
       "    </tr>\n",
       "    <tr>\n",
       "      <th>1</th>\n",
       "      <td>0</td>\n",
       "      <td>sunderland-born hero jordan henderson in line ...</td>\n",
       "    </tr>\n",
       "    <tr>\n",
       "      <th>2</th>\n",
       "      <td>1</td>\n",
       "      <td>a reminder that last summer the warriors didn ...</td>\n",
       "    </tr>\n",
       "    <tr>\n",
       "      <th>3</th>\n",
       "      <td>0</td>\n",
       "      <td>a small personal anecdote on why i ll never fo...</td>\n",
       "    </tr>\n",
       "    <tr>\n",
       "      <th>4</th>\n",
       "      <td>0</td>\n",
       "      <td>lovren making sure hendo get credit after the ...</td>\n",
       "    </tr>\n",
       "  </tbody>\n",
       "</table>\n",
       "</div>"
      ],
      "text/plain": [
       "   subreddit                                            message\n",
       "0          1  draymond green is one tech away from being sus...\n",
       "1          0  sunderland-born hero jordan henderson in line ...\n",
       "2          1  a reminder that last summer the warriors didn ...\n",
       "3          0  a small personal anecdote on why i ll never fo...\n",
       "4          0  lovren making sure hendo get credit after the ..."
      ]
     },
     "execution_count": 13,
     "metadata": {},
     "output_type": "execute_result"
    }
   ],
   "source": [
    "def standardize_text(df, text_field):\n",
    "    df[text_field] = df[text_field].str.replace(r\"http\\S+\", \"\")\n",
    "    df[text_field] = df[text_field].str.replace(r\"http\", \"\")\n",
    "    df[text_field] = df[text_field].str.replace(r\"@\\S+\", \"\")\n",
    "    df[text_field] = df[text_field].str.replace(r\"@\", \"at\")\n",
    "    df[text_field] = df[text_field].str.lower().str.strip()\n",
    "    return df\n",
    "\n",
    "questions = standardize_text(posts, \"message\")\n",
    "\n",
    "questions.head()"
   ]
  },
  {
   "cell_type": "code",
   "execution_count": 14,
   "metadata": {},
   "outputs": [],
   "source": [
    "#posts.to_csv('../datasets/posts_clean.csv')"
   ]
  },
  {
   "cell_type": "markdown",
   "metadata": {},
   "source": [
    "##### Train_Test_Split"
   ]
  },
  {
   "cell_type": "code",
   "execution_count": 15,
   "metadata": {},
   "outputs": [],
   "source": [
    "# Create train_test_split.\n",
    "X_train, X_test, y_train, y_test = train_test_split(posts[['message']],\n",
    "                                                    posts['subreddit'],\n",
    "                                                    test_size = 0.25,\n",
    "                                                    random_state = 42)"
   ]
  },
  {
   "cell_type": "code",
   "execution_count": 16,
   "metadata": {},
   "outputs": [
    {
     "data": {
      "text/plain": [
       "message    1140\n",
       "dtype: int64"
      ]
     },
     "execution_count": 16,
     "metadata": {},
     "output_type": "execute_result"
    }
   ],
   "source": [
    "X_train.count()\n"
   ]
  },
  {
   "cell_type": "code",
   "execution_count": 17,
   "metadata": {},
   "outputs": [
    {
     "data": {
      "text/plain": [
       "message    381\n",
       "dtype: int64"
      ]
     },
     "execution_count": 17,
     "metadata": {},
     "output_type": "execute_result"
    }
   ],
   "source": [
    "X_test.count()"
   ]
  },
  {
   "cell_type": "code",
   "execution_count": 18,
   "metadata": {},
   "outputs": [
    {
     "data": {
      "text/plain": [
       "1140"
      ]
     },
     "execution_count": 18,
     "metadata": {},
     "output_type": "execute_result"
    }
   ],
   "source": [
    "y_train.count()"
   ]
  },
  {
   "cell_type": "code",
   "execution_count": 19,
   "metadata": {},
   "outputs": [
    {
     "data": {
      "text/plain": [
       "381"
      ]
     },
     "execution_count": 19,
     "metadata": {},
     "output_type": "execute_result"
    }
   ],
   "source": [
    "y_test.count()"
   ]
  },
  {
   "cell_type": "markdown",
   "metadata": {},
   "source": [
    "##### Remove HTML code artifacts"
   ]
  },
  {
   "cell_type": "code",
   "execution_count": 20,
   "metadata": {},
   "outputs": [
    {
     "name": "stdout",
     "output_type": "stream",
     "text": [
      "sunderland-born hero jordan henderson in line for freedom of the city after liverpool champions league glory\n",
      "\n",
      "sunderland-born hero jordan henderson in line for freedom of the city after liverpool champions league glory\n"
     ]
    }
   ],
   "source": [
    "# Initialize the BeautifulSoup object on a single movie review     \n",
    "output = BeautifulSoup(X_train['message'][1])\n",
    "\n",
    "# Print the raw review and then the output of get_text(), for comparison\n",
    "print(X_train['message'][1])\n",
    "print()\n",
    "print(output.get_text())"
   ]
  },
  {
   "cell_type": "markdown",
   "metadata": {},
   "source": [
    "##### Remove Punctuation + Lowercase"
   ]
  },
  {
   "cell_type": "code",
   "execution_count": 21,
   "metadata": {},
   "outputs": [
    {
     "data": {
      "text/plain": [
       "'sunderland born hero jordan henderson in line for '"
      ]
     },
     "execution_count": 21,
     "metadata": {},
     "output_type": "execute_result"
    }
   ],
   "source": [
    "# Use regular expressions to do a find-and-replace\n",
    "letters_only = re.sub(\"[^a-zA-Z]\",           # The pattern to search for\n",
    "                      \" \",                   # The pattern to replace it with\n",
    "                      output.get_text())     # The text to search\n",
    "# Show first fifty letters of letters_only.\n",
    "letters_only[0:50]"
   ]
  },
  {
   "cell_type": "code",
   "execution_count": 22,
   "metadata": {},
   "outputs": [
    {
     "data": {
      "text/plain": [
       "['sunderland',\n",
       " 'born',\n",
       " 'hero',\n",
       " 'jordan',\n",
       " 'henderson',\n",
       " 'in',\n",
       " 'line',\n",
       " 'for',\n",
       " 'freedom',\n",
       " 'of']"
      ]
     },
     "execution_count": 22,
     "metadata": {},
     "output_type": "execute_result"
    }
   ],
   "source": [
    "# Convert letters_only to lower case.\n",
    "lower_case = letters_only.lower()\n",
    "\n",
    "# Split lower_case up at each space.\n",
    "words = lower_case.split() # This is like a manual tokenizer!\n",
    "\n",
    "# Check first ten words.\n",
    "words[0:10]"
   ]
  },
  {
   "cell_type": "markdown",
   "metadata": {},
   "source": [
    "##### Remove Stop Words"
   ]
  },
  {
   "cell_type": "code",
   "execution_count": 23,
   "metadata": {},
   "outputs": [],
   "source": [
    "# Download text data sets, including stop words. Uncomment this if you did not download!\n",
    "#nltk.download()  \n",
    "    \n",
    "#print(stopwords.words(\"english\"))"
   ]
  },
  {
   "cell_type": "code",
   "execution_count": 24,
   "metadata": {},
   "outputs": [
    {
     "name": "stdout",
     "output_type": "stream",
     "text": [
      "['sunderland', 'born', 'hero', 'jordan', 'henderson', 'line', 'freedom', 'city', 'liverpool', 'champions', 'league', 'glory']\n"
     ]
    }
   ],
   "source": [
    "# Remove stop words from \"words.\"\n",
    "words = [w for w in words if not w in stopwords.words('english')]\n",
    "print(words)"
   ]
  },
  {
   "cell_type": "markdown",
   "metadata": {},
   "source": [
    "##### Consolidated Cleaning function"
   ]
  },
  {
   "cell_type": "code",
   "execution_count": 25,
   "metadata": {},
   "outputs": [],
   "source": [
    "def review_to_words(raw_review):\n",
    "    # Function to convert a raw review to a string of words\n",
    "    # The input is a single string (a raw movie review), and \n",
    "    # the output is a single string (a preprocessed movie review)\n",
    "    \n",
    "    # 1. Remove HTML.\n",
    "    review_text = BeautifulSoup(raw_review).get_text()\n",
    "    \n",
    "    # 2. Remove non-letters.\n",
    "    letters_only = re.sub(\"[^a-zA-Z]\", \" \", review_text)\n",
    "    \n",
    "    # 3. Convert to lower case, split into individual words.\n",
    "    words = letters_only.lower().split()\n",
    "    \n",
    "    # 4. In Python, searching a set is much faster than searching\n",
    "    # a list, so convert the stop words to a set.\n",
    "    stops = set(stopwords.words('english'))\n",
    "    \n",
    "    # 5. Remove stop words.\n",
    "    meaningful_words = [w for w in words if not w in stops]\n",
    "    \n",
    "    # 6. Join the words back into one string separated by space, \n",
    "    # and return the result.\n",
    "    return(\" \".join(meaningful_words))"
   ]
  },
  {
   "cell_type": "code",
   "execution_count": 26,
   "metadata": {},
   "outputs": [
    {
     "name": "stdout",
     "output_type": "stream",
     "text": [
      "There are 1521 messages to clean.\n"
     ]
    }
   ],
   "source": [
    "# Get the number of reviews based on the dataframe size.\n",
    "total_reviews = posts.shape[0]\n",
    "print(f'There are {total_reviews} messages to clean.')\n",
    "\n",
    "# Initialize an empty list to hold the clean reviews.\n",
    "clean_train_reviews = []\n",
    "clean_test_reviews = []"
   ]
  },
  {
   "cell_type": "code",
   "execution_count": 27,
   "metadata": {},
   "outputs": [
    {
     "name": "stdout",
     "output_type": "stream",
     "text": [
      "Cleaning and parsing the X_TRAIN posts...\n",
      "Message 500 of 1140.\n",
      "Message 1000 of 1140.\n",
      "Cleaning and parsing the X_TEST posts...\n",
      "Message 100 of 381.\n",
      "Message 200 of 381.\n",
      "Message 300 of 381.\n"
     ]
    }
   ],
   "source": [
    "print(\"Cleaning and parsing the X_TRAIN posts...\")\n",
    "\n",
    "X_train_reviews = X_train.shape[0]\n",
    "\n",
    "j = 0\n",
    "for train_review in X_train['message']:\n",
    "    # Convert review to words, then append to clean_train_reviews.\n",
    "    clean_train_reviews.append(review_to_words(train_review))\n",
    "    \n",
    "    # If the index is divisible by 500, print a message\n",
    "    if (j + 1) % 500 == 0:\n",
    "        print(f'Message {j + 1} of {X_train_reviews}.')\n",
    "    \n",
    "    j += 1\n",
    "\n",
    "# For the testing set.\n",
    "\n",
    "print(\"Cleaning and parsing the X_TEST posts...\")\n",
    "\n",
    "X_test_reviews = X_test.shape[0]\n",
    "\n",
    "j = 0\n",
    "for test_review in X_test['message']:\n",
    "    # Convert review to words, then append to clean_train_reviews.\n",
    "    clean_test_reviews.append(review_to_words(test_review))\n",
    "    \n",
    "    # If the index is divisible by 100, print a message\n",
    "    if (j + 1) % 100 == 0:\n",
    "        print(f'Message {j + 1} of {X_test_reviews}.')\n",
    "        \n",
    "    j += 1"
   ]
  },
  {
   "cell_type": "markdown",
   "metadata": {},
   "source": [
    "##### CountVectorizer"
   ]
  },
  {
   "cell_type": "code",
   "execution_count": 28,
   "metadata": {},
   "outputs": [],
   "source": [
    "# Instantiate the \"CountVectorizer\" object, which is scikit-learn's\n",
    "# bag of words tool.\n",
    "vectorizer = CountVectorizer(analyzer = \"word\",\n",
    "                             tokenizer = None,\n",
    "                             preprocessor = None,\n",
    "                             stop_words = None,\n",
    "                             max_features = 5000) "
   ]
  },
  {
   "cell_type": "markdown",
   "metadata": {},
   "source": [
    "##### vectorizer.fit_transform & .transform"
   ]
  },
  {
   "cell_type": "code",
   "execution_count": 29,
   "metadata": {},
   "outputs": [],
   "source": [
    "# fit_transform() does two functions: First, it fits the model\n",
    "# and learns the vocabulary; second, it transforms our training data\n",
    "# into feature vectors. The input to fit_transform should be a list of \n",
    "# strings.\n",
    "\n",
    "train_data_features = vectorizer.fit_transform(clean_train_reviews)\n",
    "\n",
    "test_data_features = vectorizer.transform(clean_test_reviews)\n",
    "\n",
    "# Numpy arrays are easy to work with, so convert the result to an \n",
    "# array.\n",
    "train_data_features = train_data_features.toarray()"
   ]
  },
  {
   "cell_type": "code",
   "execution_count": 30,
   "metadata": {},
   "outputs": [
    {
     "name": "stdout",
     "output_type": "stream",
     "text": [
      "(1140, 3775)\n"
     ]
    }
   ],
   "source": [
    "print(train_data_features.shape)"
   ]
  },
  {
   "cell_type": "code",
   "execution_count": 31,
   "metadata": {},
   "outputs": [
    {
     "name": "stdout",
     "output_type": "stream",
     "text": [
      "(381, 3775)\n"
     ]
    }
   ],
   "source": [
    "print(test_data_features.shape)"
   ]
  },
  {
   "cell_type": "code",
   "execution_count": 32,
   "metadata": {},
   "outputs": [
    {
     "data": {
      "text/plain": [
       "array([[0, 0, 0, ..., 0, 0, 0],\n",
       "       [0, 0, 0, ..., 0, 0, 0],\n",
       "       [0, 0, 0, ..., 0, 0, 0],\n",
       "       [0, 0, 0, ..., 0, 0, 0],\n",
       "       [0, 0, 0, ..., 0, 0, 0],\n",
       "       [0, 0, 0, ..., 0, 0, 0]], dtype=int64)"
      ]
     },
     "execution_count": 32,
     "metadata": {},
     "output_type": "execute_result"
    }
   ],
   "source": [
    "train_data_features[0:6]"
   ]
  },
  {
   "cell_type": "code",
   "execution_count": 33,
   "metadata": {},
   "outputs": [
    {
     "name": "stdout",
     "output_type": "stream",
     "text": [
      "['aba', 'abc', 'abdoulaye', 'ability', 'able', 'abola', 'absolute', 'absolutely', 'absurd', 'absurdity', 'abuse', 'ac', 'academy', 'acc', 'accept', 'according', 'accuracy', 'accurate', 'accuses', 'achievements', 'achieving', 'achilles', 'acl', 'acquired', 'acquisition', 'across', 'act', 'acted', 'action', 'active', 'actual', 'actually', 'ad', 'adam', 'adapt', 'add', 'additional', 'additions', 'address', 'addressing', 'adidas', 'adjustment', 'admit', 'admitted', 'adri', 'advance', 'advanced', 'advances', 'advert', 'aerial', 'affect', 'africa', 'african', 'afro', 'aftermath', 'afternoon', 'age', 'aged', 'agency', 'agenda', 'agent', 'agents', 'ages', 'aggar', 'aging', 'ago', 'agree', 'agreed', 'ahead', 'aiello', 'air', 'airport', 'ajax', 'aka', 'al', 'alberto', 'albets', 'albie', 'aldridge', 'aleix', 'aleksandr', 'alex', 'alexander', 'alexisonfire', 'alfonzo', 'alisson', 'alive', 'allez', 'allow', 'allowed', 'allstar', 'almost', 'alone', 'alongside', 'already', 'alright', 'also', 'alternate', 'although', 'alum', 'alvin', 'always', 'amatuers', 'amazing', 'americans', 'amick', 'among', 'amount', 'amp', 'amped', 'amusing', 'analysis', 'andre', 'andrea', 'andrew', 'andy', 'anecdote', 'anfield', 'angeles', 'angelo', 'angle', 'animation', 'announce', 'announced', 'announces', 'announcing', 'another', 'answer', 'anthem', 'anthony', 'anti', 'anticipate', 'anticipation', 'anunoby', 'anybody', 'anymore', 'anyone', 'anything', 'anyways', 'anywhere', 'apart', 'apologies', 'apparently', 'appears', 'applied', 'apply', 'appreciate', 'appreciated', 'appreciating', 'appreciation', 'approach', 'appropriate', 'approvals', 'approved', 'april', 'arc', 'area', 'areas', 'arena', 'arent', 'arnold', 'around', 'array', 'arrival', 'arrived', 'arrives', 'art', 'artest', 'article', 'articles', 'ashamed', 'aside', 'ask', 'asked', 'asking', 'asks', 'aspects', 'aspx', 'assets', 'asshole', 'assholes', 'assigned', 'assist', 'assistant', 'assists', 'associate', 'association', 'ast', 'asts', 'athlete', 'athletes', 'athletic', 'atlanta', 'atm', 'atmosphere', 'attached', 'attack', 'attacker', 'attempt', 'attempts', 'attention', 'audience', 'august', 'aulas', 'australia', 'authentic', 'authority', 'auto', 'autobiography', 'autograph', 'automatic', 'availability', 'available', 'average', 'averaged', 'averaging', 'avoid', 'award', 'awarded', 'awards', 'aware', 'away', 'awayhomescorepgtspgt', 'awesome', 'ax', 'baby', 'babyyyy', 'back', 'background', 'backing', 'backlash', 'backs', 'bad', 'badge', 'badly', 'balcerowski', 'ball', 'baller', 'ballon', 'bandwagon', 'banger', 'banging', 'bank', 'banlieuzart', 'banner', 'bans', 'bar', 'barca', 'barcelona', 'barely', 'bargnani', 'barkley', 'barnes', 'barrett', 'based', 'basically', 'basket', 'basketball', 'bastard', 'battle', 'battling', 'bay', 'bayern', 'baylor', 'bballpop', 'beadle', 'beal', 'bear', 'beat', 'beating', 'beautiful', 'beautifully', 'became', 'beck', 'becker', 'become', 'becoming', 'began', 'begins', 'begley', 'begun', 'behind', 'believe', 'believes', 'belive', 'bell', 'belong', 'bench', 'bender', 'benfica', 'bernardo', 'best', 'besting', 'bet', 'better', 'beyond', 'bias', 'bid', 'bidding', 'big', 'bigger', 'biggest', 'bike', 'bild', 'bill', 'billups', 'bird', 'birthday', 'bismack', 'bit', 'biyombo', 'black', 'blacked', 'blahblahblah', 'blame', 'blames', 'blast', 'blasted', 'blatt', 'blazers', 'bleed', 'blessing', 'blew', 'blocked', 'blocking', 'blocks', 'blog', 'blow', 'blowing', 'blurry', 'board', 'bob', 'bobby', 'body', 'bogdan', 'bogut', 'boi', 'bonner', 'bonus', 'booed', 'boogie', 'book', 'booming', 'boos', 'boost', 'boot', 'born', 'borrego', 'borussia', 'borussiadortmund', 'bosh', 'boss', 'bosses', 'bost', 'boston', 'bother', 'bothers', 'bottle', 'boucher', 'bought', 'bouhafsi', 'boundaries', 'box', 'boxscore', 'boy', 'boys', 'br', 'brace', 'bracket', 'brad', 'bradford', 'bradley', 'brandon', 'brass', 'brazil', 'break', 'breaking', 'breather', 'breen', 'bremen', 'brick', 'bridge', 'brief', 'brien', 'bring', 'bringing', 'brings', 'brink', 'broadcast', 'broke', 'broken', 'brook', 'brooklyn', 'brother', 'brothers', 'brought', 'bruno', 'bryant', 'bst', 'btw', 'bucket', 'buckets', 'bucks', 'build', 'building', 'built', 'bull', 'bulls', 'bullshit', 'bummer', 'bump', 'bumped', 'bunch', 'bungled', 'burke', 'burnley', 'bursts', 'bus', 'business', 'businessman', 'busy', 'butler', 'butterflies', 'button', 'buy', 'buyers', 'buying', 'bv', 'bvb', 'bw', 'bwairp', 'bxc', 'bxgnkr', 'bz', 'ca', 'cables', 'cacciola', 'cadena', 'cairo', 'calamitous', 'calf', 'caliber', 'call', 'called', 'calling', 'calls', 'calm', 'calves', 'cam', 'came', 'camera', 'cameroon', 'camp', 'campaign', 'campaigns', 'canada', 'canadian', 'cancelled', 'cancelling', 'cancer', 'candidate', 'candidates', 'canvas', 'cap', 'capabilities', 'capacity', 'capers', 'capped', 'captain', 'captains', 'car', 'care', 'career', 'caring', 'carmelo', 'carping', 'carra', 'carragher', 'carsen', 'cart', 'carted', 'carter', 'case', 'cases', 'cash', 'catch', 'cause', 'caution', 'cavaliers', 'cavs', 'cb', 'cbc', 'cbs', 'celebrate', 'celebrates', 'celebrating', 'celebration', 'celebrations', 'celtics', 'cement', 'cemented', 'cent', 'centaur', 'center', 'central', 'centre', 'certainly', 'cf', 'cgi', 'cha', 'challenge', 'chamberlain', 'chambo', 'champion', 'champions', 'championship', 'championships', 'chance', 'change', 'changed', 'changes', 'changing', 'channel', 'channels', 'chant', 'chanting', 'chapped', 'chapstick', 'charania', 'charged', 'charity', 'charles', 'charlotte', 'chart', 'chasing', 'chat', 'chauncey', 'chealey', 'cheaper', 'check', 'checkatrade', 'checked', 'checks', 'cheer', 'cheering', 'cheers', 'chelsea', 'chicago', 'chill', 'china', 'chip', 'cho', 'choice', 'choir', 'choked', 'choose', 'choreographed', 'chose', 'chosen', 'chris', 'christian', 'christmas', 'christos', 'chuck', 'cigars', 'cinematic', 'city', 'cj', 'cl', 'clarify', 'clarity', 'clash', 'class', 'classy', 'clause', 'claw', 'clawmarks', 'clean', 'cleaned', 'clear', 'clearances', 'cleared', 'clearly', 'cleveland', 'click', 'clinics', 'clip', 'clippings', 'clips', 'clock', 'close', 'closed', 'club', 'clubhouse', 'clubs', 'clutch', 'clyne', 'coach', 'coached', 'coaches', 'cocky', 'coded', 'coincidence', 'colangelo', 'collaboration', 'collaborative', 'collage', 'collect', 'collected', 'college', 'colm', 'color', 'coloring', 'colour', 'com', 'combination', 'combined', 'come', 'comeback', 'comeflywithb', 'comes', 'comfortable', 'coming', 'commemorate', 'comment', 'commentary', 'comments', 'commercial', 'commitment', 'committed', 'common', 'communicated', 'community', 'comparing', 'comparison', 'competition', 'competitions', 'competitor', 'compilation', 'compiled', 'complacency', 'complete', 'completed', 'complex', 'comprised', 'compromise', 'concerns', 'concert', 'conclusion', 'concussion', 'condition', 'condolences', 'conference', 'conferences', 'confessed', 'confident', 'confirm', 'confirmation', 'confirmed', 'confirms', 'confused', 'congratulate', 'congratulations', 'connection', 'connor', 'cons', 'consider', 'considered', 'considering', 'considers', 'consoles', 'conspiracy', 'construction', 'content', 'continues', 'contract', 'contracted', 'contracts', 'contractual', 'contributions', 'conversation', 'convert', 'cook', 'cool', 'copy', 'core', 'correct', 'cory', 'cost', 'costas', 'could', 'council', 'countdown', 'counted', 'counting', 'countries', 'country', 'county', 'couple', 'course', 'court', 'courtesy', 'cousins', 'coutinho', 'cover', 'coverage', 'cp', 'crazy', 'create', 'created', 'creative', 'credit', 'crespo', 'crew', 'cricket', 'cris', 'critical', 'criticism', 'criticizing', 'croatia', 'crosby', 'cross', 'crouch', 'crowd', 'crown', 'crucial', 'crucified', 'cruised', 'crutches', 'cube', 'culminating', 'culture', 'cup', 'curious', 'current', 'currently', 'curry', 'currys', 'cursed', 'cut', 'cykablat', 'cylinder', 'cyprus', 'dad', 'daily', 'dame', 'damian', 'damn', 'dance', 'dancing', 'dangerous', 'daniel', 'danny', 'dark', 'date', 'david', 'davis', 'day', 'days', 'de', 'dead', 'deadspin', 'deal', 'dealing', 'deals', 'dealt', 'death', 'deb', 'debate', 'debut', 'dec', 'decide', 'decided', 'decision', 'decisions', 'decorations', 'dedicated', 'deducted', 'deduction', 'deductions', 'deed', 'deem', 'deep', 'default', 'defeat', 'defence', 'defender', 'defenders', 'defending', 'defends', 'defense', 'defensive', 'definitely', 'degree', 'degsy', 'dejan', 'deleted', 'delivered', 'deliveries', 'demanded', 'demarcus', 'dembele', 'demcarus', 'demo', 'deng', 'denies', 'dennis', 'denver', 'department', 'departure', 'depay', 'depays', 'depleted', 'depth', 'derby', 'derek', 'derrick', 'derrickson', 'deserve', 'deserves', 'deserving', 'design', 'designs', 'desire', 'desk', 'despite', 'destorying', 'destroyed', 'destroying', 'detailed', 'detailing', 'details', 'determine', 'determined', 'detroit', 'devastates', 'devastating', 'develop', 'developing', 'development', 'deveney', 'deyonta', 'diagnosed', 'diao', 'diawara', 'didi', 'didnt', 'died', 'diehard', 'diet', 'difference', 'different', 'difficult', 'difficulty', 'digue', 'dijk', 'diminishes', 'directly', 'dirk', 'dirty', 'disappointed', 'discover', 'discussion', 'discussions', 'disease', 'disliked', 'dissent', 'distance', 'dives', 'division', 'divock', 'dmc', 'dnp', 'doctor', 'doctors', 'documentary', 'doll', 'dollars', 'domestic', 'dominant', 'dominated', 'dominique', 'donaghy', 'donate', 'done', 'donkey', 'donovan', 'dont', 'doors', 'doorstep', 'doris', 'dorris', 'dortmund', 'double', 'doubt', 'downright', 'downs', 'downtown', 'downvote', 'doye', 'doyle', 'dpoy', 'dpt', 'draft', 'drafts', 'drake', 'drama', 'draw', 'drawing', 'draws', 'draymond', 'dream', 'dreams', 'drew', 'dribble', 'drills', 'drinks', 'drive', 'drop', 'drumming', 'drummond', 'drury', 'dry', 'dublin', 'dubs', 'dude', 'due', 'duels', 'dugout', 'duluc', 'dunc', 'duncan', 'duncd', 'dunk', 'duo', 'durant', 'durants', 'duty', 'dwyane', 'dynasty', 'dysfunction', 'dysfunctional', 'ea', 'earlier', 'early', 'earned', 'earns', 'ears', 'earth', 'easier', 'easily', 'east', 'eastern', 'easy', 'echo', 'ed', 'eda', 'edge', 'edinburgh', 'edit', 'edition', 'educate', 'edwards', 'effect', 'efficiency', 'effort', 'efl', 'egypt', 'egyptian', 'eh', 'eichenhofer', 'eid', 'eight', 'either', 'elder', 'elgin', 'elo', 'else', 'embodies', 'embrace', 'emotion', 'emotional', 'emotions', 'empty', 'en', 'encore', 'encourage', 'encouragement', 'end', 'ended', 'endgame', 'ending', 'ends', 'energy', 'eng', 'england', 'english', 'enjoy', 'enjoyed', 'enjoying', 'enjoys', 'enough', 'enquire', 'enquiry', 'enrique', 'entering', 'enthusiastic', 'entire', 'entirely', 'epic', 'equalling', 'equation', 'equipe', 'equivalent', 'era', 'eric', 'ers', 'erupt', 'escalation', 'especially', 'espn', 'est', 'et', 'etc', 'etheridge', 'ettore', 'eurohoops', 'euroleague', 'europe', 'european', 'evaluated', 'evaluating', 'evans', 'even', 'event', 'events', 'eventual', 'eventually', 'ever', 'everton', 'every', 'everybody', 'everyone', 'everything', 'everytime', 'evolve', 'evp', 'ewing', 'exact', 'exactly', 'example', 'examples', 'exceed', 'exchange', 'excited', 'exclusive', 'executive', 'exhausting', 'exits', 'expand', 'expansion', 'expect', 'expectation', 'expectations', 'expected', 'expecting', 'expensive', 'experience', 'experts', 'expire', 'explains', 'exposing', 'express', 'extend', 'extension', 'extent', 'extra', 'extremely', 'eye', 'eyes', 'ezy', 'fa', 'fabinho', 'face', 'faced', 'facility', 'facing', 'fact', 'factor', 'factors', 'factory', 'fail', 'fails', 'fair', 'faith', 'fakes', 'falk', 'fall', 'falls', 'fame', 'famer', 'family', 'fan', 'fanbase', 'fans', 'fantastic', 'fantasypl', 'far', 'farewell', 'fascinating', 'fashion', 'fast', 'fat', 'fate', 'father', 'fatigue', 'fault', 'fav', 'favor', 'favored', 'favorite', 'favorites', 'favors', 'favourite', 'favourites', 'fb', 'fc', 'feat', 'featured', 'featuring', 'feb', 'federation', 'feed', 'feel', 'feeling', 'feels', 'feet', 'fekir', 'felipe', 'fell', 'fella', 'felt', 'female', 'fernandez', 'fewer', 'fg', 'fiba', 'fickle', 'field', 'fifa', 'fight', 'fighting', 'figure', 'filed', 'filings', 'filler', 'final', 'finale', 'finalized', 'finally', 'finals', 'find', 'finder', 'finding', 'finds', 'fine', 'finest', 'fingertips', 'finish', 'finished', 'finishes', 'fire', 'fired', 'firing', 'firm', 'firmino', 'first', 'fish', 'fist', 'fit', 'fitness', 'fitting', 'five', 'fivethirtyeight', 'flags', 'flat', 'floater', 'flooded', 'floor', 'flop', 'fluff', 'fly', 'flying', 'focus', 'focusing', 'folks', 'follow', 'followed', 'following', 'fond', 'font', 'foot', 'football', 'footballer', 'force', 'forced', 'forcing', 'forever', 'forfeit', 'forfeited', 'forfeiting', 'forget', 'forgetti', 'forgot', 'forgotten', 'form', 'formal', 'formality', 'formation', 'formed', 'former', 'forum', 'forums', 'forward', 'foul', 'fouls', 'found', 'fountain', 'four', 'fowler', 'fracture', 'fractured', 'frame', 'framework', 'france', 'franchise', 'franchises', 'frank', 'freak', 'freakin', 'freaking', 'fred', 'free', 'freedom', 'fremont', 'french', 'freunde', 'friday', 'friedell', 'friend', 'friendlies', 'friends', 'front', 'frustrating', 'frustration', 'fs', 'fsg', 'ft', 'fuck', 'fucked', 'fucking', 'fulham', 'full', 'fully', 'fun', 'funes', 'funny', 'fuss', 'future', 'fvmp', 'fvv', 'gaeilge', 'gambling', 'game', 'games', 'garcia', 'gary', 'gasol', 'gather', 'gave', 'gay', 'gem', 'gems', 'general', 'generally', 'geneva', 'genuine', 'george', 'georginio', 'german', 'germany', 'germs', 'gerrard', 'gerry', 'gesture', 'get', 'gets', 'getting', 'gf', 'giannis', 'giants', 'gif', 'gift', 'gilchrist', 'gini', 'ginobili', 'girlfriend', 'give', 'given', 'gives', 'giving', 'givony', 'glory', 'glove', 'gm', 'go', 'goal', 'goalkeeper', 'goals', 'goaltending', 'goat', 'god', 'goes', 'going', 'gold', 'goldberry', 'golden', 'golf', 'gomez', 'gonna', 'good', 'goodbye', 'goodwill', 'google', 'gordon', 'gosh', 'got', 'gotta', 'gotten', 'goya', 'gq', 'grade', 'grades', 'grand', 'grandson', 'granted', 'graphic', 'graphics', 'grave', 'gravity', 'great', 'greater', 'greatest', 'greatness', 'greats', 'greece', 'greek', 'green', 'greens', 'greet', 'gregg', 'grew', 'grey', 'grievance', 'griffin', 'grizzlies', 'grizzly', 'grossing', 'ground', 'group', 'growing', 'grows', 'gs', 'gsw', 'gswminfgft', 'gswtor', 'gt', 'guard', 'guarded', 'guardian', 'guess', 'guesses', 'guide', 'gundy', 'gut', 'guy', 'guys', 'gw', 'gytis', 'ha', 'haha', 'hahaha', 'hair', 'hakeem', 'half', 'halftime', 'halifax', 'hall', 'hamann', 'hampton', 'hamptons', 'hamstring', 'hand', 'handed', 'handle', 'hands', 'handy', 'hang', 'happen', 'happened', 'happening', 'happens', 'happier', 'happiness', 'happy', 'hard', 'harden', 'hardest', 'harris', 'harrison', 'harry', 'hat', 'hate', 'hated', 'hateful', 'hater', 'haters', 'hates', 'hawks', 'haynes', 'hayward', 'hazard', 'hc', 'hd', 'head', 'headed', 'heading', 'headline', 'health', 'healthiest', 'healthy', 'hear', 'heard', 'hearing', 'heart', 'heated', 'heaton', 'heavenly', 'heavily', 'heel', 'hello', 'help', 'helping', 'henderson', 'hendo', 'hendos', 'henry', 'hernandez', 'hero', 'heroes', 'hes', 'hesitation', 'hey', 'hhat', 'hid', 'high', 'higher', 'highest', 'highlight', 'highlights', 'hilarious', 'hill', 'hillsborough', 'hindsight', 'hip', 'hire', 'hired', 'hiring', 'historic', 'historical', 'history', 'hit', 'hobbles', 'hold', 'holder', 'holding', 'holds', 'holiday', 'holidays', 'home', 'honduras', 'honest', 'hong', 'honour', 'honouring', 'hoop', 'hop', 'hope', 'hopeful', 'hopes', 'hoping', 'horford', 'horizontal', 'horizontally', 'hornets', 'horrible', 'horrid', 'horrified', 'horse', 'hospital', 'host', 'hosts', 'hot', 'hotspur', 'hour', 'hours', 'house', 'houston', 'howbig', 'however', 'huge', 'hugging', 'human', 'humiliated', 'hundred', 'hunter', 'hunters', 'hurry', 'hurt', 'hurts', 'husband', 'hype', 'hypocritical', 'hypothetical', 'ian', 'ibaka', 'iced', 'iconic', 'icshv', 'id', 'ideal', 'identifying', 'idk', 'ie', 'ig', 'iggy', 'ignorance', 'ignorant', 'ignoring', 'iguodala', 'iguodola', 'ii', 'iii', 'illegal', 'illistrated', 'im', 'image', 'images', 'imaginary', 'imagine', 'immediately', 'immune', 'impact', 'imperious', 'implying', 'important', 'impressed', 'improve', 'improving', 'inadvertently', 'inaugural', 'incentives', 'incident', 'include', 'included', 'includes', 'including', 'income', 'inconclusive', 'increase', 'incredible', 'indeed', 'independent', 'index', 'indiana', 'indicate', 'indicated', 'indicates', 'indicator', 'individual', 'inevitable', 'inferred', 'information', 'informed', 'ing', 'initial', 'initially', 'injured', 'injuries', 'injuring', 'injury', 'insane', 'inside', 'insight', 'inspired', 'insta', 'instagram', 'instances', 'instead', 'instrument', 'integrated', 'inter', 'interaction', 'interceptions', 'interested', 'interesting', 'interference', 'international', 'internet', 'interview', 'interviews', 'intro', 'introducing', 'intros', 'inventor', 'invited', 'involved', 'iphones', 'irritations', 'irving', 'isaiah', 'ish', 'island', 'isolation', 'issue', 'issues', 'istanbul', 'italian', 'italy', 'ja', 'jacian', 'jalen', 'jam', 'jamal', 'james', 'jamie', 'jan', 'jason', 'jayson', 'jazz', 'jd', 'jealous', 'jean', 'jeff', 'jefferson', 'jenkins', 'jeopardize', 'jerebko', 'jeremy', 'jerome', 'jerry', 'jersey', 'jerseys', 'jim', 'jimmy', 'jiri', 'job', 'joe', 'joel', 'john', 'johnson', 'join', 'joined', 'joining', 'joke', 'joked', 'jonas', 'jonathan', 'jones', 'jordan', 'jose', 'joseph', 'joshua', 'journey', 'journos', 'joy', 'joyce', 'jp', 'jpg', 'jr', 'jubilant', 'juergen', 'july', 'jump', 'jumper', 'jumpers', 'jumping', 'jun', 'june', 'jurassic', 'jurgen', 'justin', 'jvg', 'kaminsky', 'katie', 'kawakami', 'kawhi', 'kawhiboard', 'kawhis', 'kd', 'kds', 'keep', 'keeper', 'keita', 'kellerman', 'kemba', 'kendrick', 'kennedy', 'kept', 'kerfuffle', 'kerr', 'kevin', 'kevon', 'key', 'khris', 'kia', 'kick', 'kicked', 'kickoff', 'kid', 'kidd', 'kids', 'kiev', 'killed', 'killer', 'kimmel', 'kind', 'kinda', 'kindness', 'king', 'kingly', 'kings', 'kink', 'kirk', 'kiss', 'kissing', 'kit', 'kits', 'klavan', 'klay', 'klopp', 'knee', 'knew', 'knicks', 'knight', 'knocked', 'knockouts', 'know', 'knowing', 'knows', 'kobe', 'kong', 'korea', 'koreen', 'krisplashed', 'kruse', 'kudos', 'kurtis', 'kushner', 'kuyt', 'kuzma', 'kyle', 'kyrie', 'la', 'lad', 'lads', 'lady', 'lakers', 'lallana', 'lamb', 'land', 'lane', 'langlois', 'language', 'lanka', 'large', 'larry', 'las', 'last', 'late', 'later', 'latest', 'launch', 'launched', 'lavine', 'law', 'lays', 'lazy', 'le', 'lead', 'leader', 'leadership', 'leading', 'leads', 'leafs', 'league', 'leagues', 'leak', 'leaked', 'leaning', 'leaps', 'learned', 'least', 'leave', 'leaves', 'leaving', 'lebron', 'lebrong', 'lebronto', 'led', 'lee', 'left', 'leg', 'legacy', 'legend', 'legendary', 'legends', 'legit', 'legitimately', 'legs', 'lengths', 'lennart', 'leonard', 'les', 'less', 'lessons', 'let', 'letourneau', 'lets', 'letter', 'letters', 'letting', 'levels', 'leverage', 'lewenberg', 'leyton', 'lfc', 'lfctv', 'lh', 'life', 'lifelong', 'lifetime', 'lift', 'lifted', 'light', 'ligt', 'lijnders', 'like', 'liked', 'likely', 'likes', 'lillard', 'lille', 'limit', 'limited', 'limitless', 'lin', 'line', 'lineker', 'lines', 'lineup', 'lining', 'link', 'linked', 'links', 'lips', 'list', 'listed', 'listen', 'listening', 'literal', 'literally', 'litmus', 'little', 'live', 'lived', 'liverbird', 'liverpool', 'lives', 'living', 'livingston', 'lnp', 'load', 'loan', 'local', 'location', 'lock', 'locked', 'locker', 'lockeroom', 'logged', 'logo', 'logos', 'lol', 'long', 'longer', 'longtime', 'look', 'looked', 'looking', 'looks', 'looney', 'lopez', 'lord', 'los', 'losc', 'lose', 'loses', 'losing', 'loss', 'losses', 'lost', 'lot', 'lots', 'lou', 'loudly', 'loul', 'love', 'loved', 'loves', 'lovren', 'lowe', 'lower', 'lowlights', 'lowry', 'loyal', 'loyalty', 'loyd', 'lt', 'luck', 'lucky', 'luis', 'luxury', 'lyon', 'mack', 'macura', 'mad', 'maddison', 'made', 'madness', 'madrid', 'magazine', 'magic', 'mahssi', 'main', 'mainly', 'major', 'majority', 'make', 'makes', 'making', 'malice', 'malinger', 'malloy', 'man', 'managed', 'management', 'manager', 'manchester', 'mane', 'manipulating', 'mans', 'many', 'maple', 'maps', 'marbella', 'marc', 'march', 'margin', 'mark', 'markannen', 'marks', 'marsden', 'marty', 'marvin', 'masai', 'masiulis', 'massive', 'match', 'matched', 'matchup', 'mateo', 'mates', 'matip', 'matt', 'matthews', 'matthijs', 'mauling', 'mavericks', 'max', 'maximum', 'may', 'maybe', 'mccaw', 'mccollum', 'mcilroy', 'mckinnie', 'mcmanaman', 'mean', 'meaning', 'meaningless', 'means', 'meant', 'meantime', 'medal', 'media', 'medical', 'medically', 'medicine', 'medina', 'mediocre', 'meeks', 'meet', 'meeting', 'megathread', 'melissa', 'melo', 'melwood', 'mem', 'member', 'members', 'meme', 'memes', 'memories', 'memphis', 'mental', 'mentality', 'mentally', 'mention', 'mentioned', 'menu', 'mercato', 'mercenary', 'mess', 'messi', 'messina', 'met', 'method', 'meticulous', 'mi', 'miami', 'michael', 'michel', 'michelle', 'mid', 'middle', 'middleton', 'midfield', 'midfielder', 'midnight', 'might', 'mignolet', 'milan', 'milano', 'mildly', 'miller', 'million', 'millions', 'millsap', 'milner', 'milwaukee', 'min', 'mind', 'minded', 'mindset', 'minimalist', 'minneapolis', 'mins', 'minute', 'minutes', 'mips', 'mis', 'misc', 'misheard', 'mislead', 'misleading', 'misquote', 'misremembering', 'miss', 'missed', 'misses', 'missing', 'missus', 'mistaken', 'misunderstood', 'mitchell', 'mj', 'mnt', 'mo', 'moan', 'moaning', 'mob', 'mobile', 'model', 'modelled', 'modern', 'modric', 'mods', 'mohamed', 'moment', 'moments', 'momentum', 'monday', 'money', 'moneyball', 'monica', 'monsieur', 'monster', 'month', 'months', 'morant', 'moreland', 'moreno', 'mori', 'morning', 'mostly', 'motd', 'mother', 'motion', 'mountainplay', 'mourinho', 'moussa', 'mouthguard', 'move', 'moved', 'moves', 'movie', 'moving', 'mpg', 'mrboywunder', 'mri', 'mris', 'mubarak', 'much', 'mullen', 'multi', 'multiple', 'multitude', 'munich', 'mural', 'murals', 'murphy', 'murray', 'muscle', 'muslim', 'must', 'mvp', 'mvps', 'myers', 'myles', 'nabil', 'naby', 'naismith', 'name', 'named', 'names', 'napoli', 'narrative', 'nash', 'nasty', 'nate', 'nathaniel', 'nation', 'national', 'nations', 'native', 'navy', 'nba', 'nbaboxscoregenerator', 'nbc', 'nd', 'neal', 'near', 'nearly', 'necessarily', 'necessary', 'neck', 'nedeng', 'need', 'needed', 'needing', 'needs', 'negative', 'neglect', 'negotiate', 'negotiations', 'neil', 'neither', 'nellie', 'net', 'netherlands', 'nets', 'neutral', 'never', 'neville', 'new', 'newly', 'news', 'newspaper', 'newspapers', 'next', 'nhl', 'nichols', 'nick', 'nicknames', 'nicolas', 'nicolo', 'nielsen', 'night', 'nights', 'nike', 'nine', 'nk', 'nobody', 'noise', 'nolan', 'non', 'none', 'normal', 'north', 'notable', 'note', 'nothing', 'notice', 'noticed', 'notions', 'notre', 'nou', 'nov', 'nowhere', 'nowitzki', 'npr', 'nuggets', 'number', 'numbers', 'nurse', 'nutmegs', 'ny', 'nyc', 'oakland', 'obi', 'obiesie', 'observations', 'obv', 'obvious', 'obviously', 'oc', 'occurred', 'oct', 'october', 'odd', 'odds', 'offense', 'offensive', 'offer', 'offered', 'offices', 'official', 'officially', 'officials', 'offseason', 'often', 'og', 'oh', 'ojcyw', 'ojo', 'ok', 'okay', 'okc', 'oladipo', 'olajuwon', 'old', 'olimpia', 'oliver', 'olympia', 'olympiacos', 'one', 'ones', 'online', 'onto', 'onze', 'open', 'opened', 'operations', 'opinion', 'opp', 'opponent', 'opportunities', 'opportunity', 'opposing', 'opposite', 'opposition', 'opt', 'opted', 'optimistic', 'optimizing', 'option', 'options', 'oracle', 'order', 'org', 'organization', 'organizational', 'orgi', 'orient', 'oriented', 'origi', 'original', 'orleans', 'orrebablkstltopfpts', 'osfp', 'osz', 'others', 'outcome', 'outgoing', 'outlines', 'outplay', 'outside', 'ovation', 'overall', 'overcome', 'overcompensating', 'overlooking', 'overnight', 'overrated', 'overseas', 'oversee', 'owner', 'owners', 'ox', 'oxlade', 'pa', 'pace', 'pacers', 'pacific', 'package', 'packages', 'page', 'paid', 'pain', 'paint', 'painting', 'paintings', 'pair', 'pairing', 'paiva', 'palace', 'panathinaikos', 'panathinakos', 'pants', 'pao', 'paper', 'parade', 'paraphrased', 'paris', 'park', 'parker', 'parliament', 'part', 'partial', 'participate', 'participation', 'particular', 'parties', 'partner', 'parts', 'party', 'pascal', 'pass', 'passed', 'passing', 'passion', 'past', 'patch', 'patches', 'path', 'pathetic', 'patrick', 'paul', 'paunovic', 'pavlenka', 'pay', 'paywall', 'pbp', 'pbwa', 'peace', 'peak', 'pearce', 'peat', 'pelicans', 'pelosi', 'pen', 'penalty', 'penguins', 'people', 'pepe', 'pepijn', 'per', 'percentage', 'perfect', 'perform', 'performance', 'perhaps', 'period', 'perkons', 'person', 'personal', 'personalities', 'personality', 'personally', 'perspective', 'perth', 'pes', 'peter', 'petition', 'pfa', 'pg', 'pgl', 'phantom', 'philadelphia', 'phillips', 'philosophy', 'phis', 'phoenix', 'phone', 'photo', 'photos', 'photoshop', 'phrase', 'phrases', 'physical', 'physician', 'pic', 'pick', 'picked', 'pickpockets', 'picks', 'picture', 'pictures', 'piece', 'pierce', 'piss', 'pistons', 'pit', 'pitch', 'pitino', 'pittsburgh', 'pl', 'place', 'placed', 'placing', 'plan', 'planet', 'planned', 'planning', 'plans', 'plate', 'play', 'played', 'player', 'players', 'playing', 'playoff', 'playoffs', 'plays', 'plaza', 'please', 'plus', 'pm', 'podcast', 'podcasts', 'poetry', 'point', 'pointers', 'pointless', 'points', 'polar', 'polarizing', 'poll', 'pollie', 'polluted', 'poor', 'poorly', 'pop', 'popovich', 'popped', 'popular', 'porter', 'portland', 'portugal', 'pos', 'position', 'positions', 'positive', 'possession', 'possessions', 'possibility', 'possible', 'post', 'postcard', 'posted', 'postgame', 'posting', 'posts', 'postseason', 'postthe', 'pot', 'potential', 'powell', 'power', 'ppg', 'pr', 'practice', 'practicing', 'prayers', 'pre', 'predict', 'predicting', 'predictions', 'prefers', 'pregame', 'prem', 'premier', 'prep', 'preparation', 'preparations', 'preparedness', 'preparing', 'present', 'presenting', 'president', 'presidente', 'press', 'pressing', 'pressure', 'pressured', 'pressuring', 'pretends', 'pretty', 'prevention', 'preview', 'previous', 'previously', 'price', 'prices', 'primary', 'prime', 'primed', 'print', 'printed', 'printing', 'prior', 'priority', 'private', 'privately', 'pro', 'probable', 'probably', 'problem', 'proceeded', 'process', 'production', 'professional', 'professionals', 'projected', 'promise', 'promitheas', 'promote', 'prompted', 'property', 'proposed', 'props', 'pros', 'prospect', 'protec', 'protect', 'protector', 'protest', 'provide', 'prowess', 'ps', 'psa', 'pt', 'pts', 'pub', 'publicly', 'published', 'pull', 'pulling', 'punches', 'pundit', 'punjabi', 'purchased', 'pure', 'pursuing', 'push', 'pushed', 'pusher', 'pushes', 'pushing', 'put', 'putback', 'putting', 'qb', 'qk', 'qualification', 'quality', 'quarter', 'quarters', 'question', 'questionable', 'questioned', 'questions', 'quick', 'quickly', 'quiet', 'quite', 'quiz', 'quizzes', 'quote', 'quoted', 'quotes', 'radar', 'radio', 'rafa', 'rag', 'raiola', 'raises', 'ramifications', 'ran', 'range', 'rangers', 'rank', 'ranked', 'rankings', 'ranks', 'raps', 'raptor', 'raptors', 'raptured', 'rare', 'rashidi', 'rated', 'rating', 'raved', 'raving', 'raw', 'rbc', 'rco', 'rd', 'reaching', 'react', 'reacted', 'reaction', 'reactions', 'reacts', 'read', 'reading', 'reads', 'ready', 'reaggravates', 'real', 'realise', 'realised', 'realistically', 'realize', 'realizing', 'really', 'reason', 'reasons', 'reb', 'rebel', 'rebirth', 'rebounding', 'rebounds', 'rebs', 'rec', 'received', 'receiving', 'recent', 'recently', 'recieve', 'recolor', 'recommended', 'record', 'recover', 'recovered', 'recovery', 'recreated', 'red', 'reddish', 'reddit', 'reddy', 'redeem', 'redirected', 'redmen', 'reds', 'reduction', 'referee', 'refereeing', 'referees', 'reference', 'reflection', 'refs', 'refugee', 'refused', 'regain', 'regarding', 'regardless', 'regards', 'reggie', 'regress', 'regroup', 'regular', 'rehab', 'rehabbing', 'reial', 'reinjury', 'relate', 'related', 'relationship', 'relative', 'relaxed', 'release', 'released', 'releasing', 'relegated', 'relevant', 'reliable', 'rely', 'remained', 'remaining', 'remarkable', 'remember', 'remembered', 'remind', 'reminder', 'remove', 'removed', 'removing', 'renato', 'rentals', 'replace', 'replaced', 'replacement', 'replacing', 'replays', 'replicated', 'report', 'reported', 'reportedly', 'reporter', 'reporters', 'reporting', 'reports', 'reposting', 'reputation', 'request', 'required', 'requirement', 'rescind', 'research', 'resemblance', 'reshape', 'resign', 'resolution', 'resounding', 'respect', 'respectively', 'respects', 'responds', 'response', 'responsible', 'rest', 'restricted', 'result', 'resumes', 'retailers', 'retain', 'retire', 'retired', 'retirement', 'retiring', 'retrospective', 'return', 'returned', 'returns', 'revealed', 'revealing', 'revenue', 'reverse', 'review', 'reviews', 'revolution', 'rewatch', 'reyes', 'reynolds', 'rez', 'rgen', 'rhian', 'rich', 'richard', 'rick', 'ride', 'ridicule', 'ridiculous', 'right', 'righteously', 'rightfully', 'rights', 'rim', 'ring', 'ringer', 'ringless', 'rings', 'rip', 'ripped', 'ripples', 'rise', 'risk', 'risked', 'risking', 'risks', 'rivalry', 'rj', 'rn', 'road', 'robbed', 'robbo', 'robbos', 'roberto', 'robertson', 'robertsons', 'rocco', 'rockets', 'role', 'rollercoaster', 'rollie', 'ron', 'ronaldo', 'roof', 'room', 'rooms', 'root', 'rooting', 'rope', 'rory', 'rose', 'roster', 'rosters', 'rotations', 'round', 'rovell', 'row', 'rpg', 'rubbish', 'rude', 'rudy', 'rule', 'rulebook', 'rules', 'rumors', 'run', 'running', 'runs', 'ruptures', 'rupturing', 'russell', 'ryan', 'sabbatical', 'sacbee', 'sacramento', 'sacrifice', 'sacrificed', 'sad', 'saddened', 'sadio', 'safety', 'said', 'sake', 'salah', 'salif', 'salute', 'samrat', 'saric', 'sat', 'saturday', 'saved', 'saves', 'saw', 'say', 'saying', 'says', 'scale', 'scared', 'scarf', 'scariest', 'scary', 'scenario', 'scenarios', 'scenes', 'schira', 'schrute', 'score', 'scored', 'scorer', 'scorers', 'scoring', 'scotia', 'scotiabank', 'scotland', 'scotsman', 'scottish', 'scotto', 'scouse', 'scouting', 'screen', 'screening', 'screens', 'screw', 'scrimmage', 'sean', 'season', 'seasons', 'seat', 'seats', 'second', 'secondary', 'seconds', 'secret', 'section', 'secure', 'secured', 'see', 'seed', 'seeded', 'seeing', 'seeking', 'seemed', 'seems', 'seen', 'sees', 'segment', 'select', 'selections', 'sell', 'selves', 'semifinal', 'semifinals', 'send', 'sending', 'senior', 'senor', 'sense', 'sensitivity', 'sent', 'sentence', 'sentimental', 'seoighe', 'separate', 'separately', 'ser', 'serbia', 'serge', 'series', 'serifs', 'serious', 'seriously', 'servant', 'services', 'sessegnon', 'set', 'sets', 'setting', 'settle', 'several', 'severed', 'sevilla', 'shaken', 'shaking', 'shall', 'shampoo', 'shankly', 'shannon', 'shapes', 'shaq', 'shaqiri', 'shaquille', 'share', 'sharing', 'shaun', 'shed', 'shelburne', 'shell', 'shelvin', 'shenanigans', 'sheyi', 'shield', 'shine', 'shirt', 'shirts', 'shit', 'shitting', 'shocked', 'shoot', 'shootaround', 'shooter', 'shooters', 'shooting', 'shoots', 'shop', 'short', 'shortly', 'shot', 'shots', 'shoulder', 'shout', 'shoutout', 'show', 'showed', 'showing', 'showman', 'shows', 'si', 'siakam', 'siakim', 'sick', 'side', 'sidealk', 'sideline', 'sidney', 'sighted', 'sign', 'signed', 'significance', 'significant', 'signings', 'silence', 'silent', 'silly', 'silva', 'silver', 'similar', 'similarities', 'simon', 'simple', 'simply', 'since', 'sincere', 'sing', 'singapore', 'singing', 'single', 'sit', 'sits', 'sitting', 'situation', 'situations', 'six', 'sizable', 'size', 'skill', 'skills', 'sky', 'slam', 'slams', 'slander', 'slater', 'slating', 'sleep', 'slept', 'sliding', 'slight', 'slightly', 'slo', 'slogan', 'slow', 'small', 'smart', 'smells', 'smile', 'smith', 'smoke', 'smoking', 'smothering', 'snake', 'snet', 'soap', 'sobeys', 'soccer', 'social', 'soft', 'softer', 'softly', 'sold', 'solemn', 'solemnly', 'somebody', 'somehow', 'someone', 'something', 'sometimes', 'somewhere', 'son', 'song', 'songs', 'soon', 'sore', 'sorry', 'sound', 'sounded', 'sounds', 'source', 'sources', 'south', 'southeast', 'space', 'spain', 'speaker', 'spears', 'special', 'specific', 'spectacular', 'speculation', 'speedy', 'spend', 'spent', 'spin', 'splash', 'split', 'splits', 'spoiled', 'sponsor', 'sport', 'sporting', 'sports', 'sportsbook', 'sportsbooks', 'sportscenter', 'sportslogos', 'sportsnet', 'spot', 'spotted', 'spreaker', 'spurs', 'spurts', 'squad', 'square', 'squeal', 'sri', 'st', 'stadiums', 'staff', 'stage', 'stakes', 'stalls', 'stand', 'standard', 'standing', 'standings', 'stands', 'star', 'stars', 'start', 'started', 'starter', 'starters', 'starting', 'starts', 'stat', 'state', 'stated', 'statements', 'states', 'stating', 'statistics', 'stats', 'statsbomb', 'statue', 'status', 'stavropoulos', 'stay', 'staying', 'stayme', 'stays', 'stealing', 'steals', 'stein', 'steph', 'stephen', 'sterling', 'steve', 'steven', 'stevens', 'stevie', 'sticker', 'still', 'stink', 'stl', 'stole', 'stolen', 'stomach', 'stones', 'stood', 'stop', 'stores', 'stories', 'storm', 'story', 'straight', 'strain', 'strains', 'strand', 'strauss', 'streak', 'stream', 'streamable', 'street', 'streets', 'stress', 'strictly', 'strike', 'striker', 'string', 'strong', 'structure', 'struggles', 'struggling', 'studge', 'study', 'stuff', 'stuffing', 'stunned', 'stunt', 'sturridge', 'style', 'stylish', 'sua', 'suarez', 'sub', 'subject', 'subjective', 'submitted', 'subreddits', 'subscribes', 'subsection', 'subtitles', 'success', 'sucked', 'sucker', 'sucks', 'sudden', 'suffering', 'suggestions', 'suitors', 'summer', 'sums', 'sunday', 'sunderland', 'sung', 'suns', 'super', 'superiority', 'superstitious', 'support', 'supporter', 'supporters', 'supporting', 'supposedly', 'sure', 'surely', 'surge', 'surgeries', 'surpassed', 'surprise', 'surprised', 'surprises', 'surprising', 'surrounding', 'surroundings', 'survivor', 'suspended', 'svp', 'sweep', 'sweet', 'swept', 'swin', 'swing', 'swirl', 'switched', 'switzerland', 'swooped', 'sympathetic', 'sympathy', 'symptoms', 'system', 'taa', 'table', 'tackles', 'tactical', 'take', 'taken', 'taking', 'talent', 'talk', 'talked', 'talker', 'talking', 'talks', 'tall', 'tantalizing', 'tap', 'targets', 'tatoo', 'tattoo', 'tatum', 'taught', 'taw', 'tax', 'taylor', 'teacher', 'team', 'teamed', 'teammate', 'teammates', 'teams', 'tear', 'tears', 'tease', 'teases', 'tech', 'technical', 'technicals', 'teddy', 'teen', 'teetering', 'tell', 'telling', 'tells', 'ten', 'tended', 'tender', 'tendon', 'tense', 'term', 'terms', 'terrible', 'test', 'tested', 'testimony', 'th', 'thank', 'thanks', 'thanos', 'theathletic', 'theme', 'theories', 'therapist', 'thing', 'things', 'think', 'thinking', 'thinks', 'third', 'tho', 'thomas', 'thompson', 'thorough', 'though', 'thought', 'thoughts', 'thousand', 'thread', 'threads', 'threatened', 'threats', 'three', 'threes', 'threshold', 'thrilled', 'thrilling', 'throughout', 'throw', 'throwback', 'throws', 'thunder', 'thursday', 'tiago', 'ticket', 'tickets', 'tie', 'tied', 'tier', 'ties', 'til', 'tim', 'time', 'timeout', 'timeouts', 'times', 'timestamps', 'timetable', 'tipoff', 'tippy', 'tired', 'tis', 'title', 'titles', 'tobias', 'today', 'together', 'told', 'tomorrow', 'toned', 'tonight', 'tonnes', 'tony', 'took', 'tools', 'top', 'topic', 'topics', 'tor', 'tore', 'torminfgft', 'torn', 'toronto', 'torontoraptors', 'torrid', 'toss', 'total', 'totals', 'tottenham', 'touch', 'touches', 'touchline', 'tough', 'tour', 'toward', 'tower', 'town', 'track', 'trade', 'traded', 'trademark', 'trades', 'trail', 'train', 'trainer', 'trainers', 'training', 'trakis', 'tranmere', 'transcribed', 'transfer', 'transfers', 'transition', 'translated', 'trash', 'trauma', 'travel', 'treated', 'treatment', 'trent', 'trents', 'tribute', 'tried', 'trip', 'triumph', 'trophies', 'trophy', 'trouble', 'trudeau', 'true', 'truer', 'truly', 'trump', 'trust', 'truth', 'try', 'trying', 'ts', 'tsn', 'tucker', 'tuesday', 'tune', 'tunnel', 'turn', 'turned', 'turner', 'turning', 'turnover', 'turns', 'turquoise', 'tv', 'tweak', 'tweaked', 'tweet', 'tweeted', 'twice', 'twitter', 'two', 'twolves', 'type', 'typical', 'typically', 'typos', 'ucl', 'uclfinal', 'uefa', 'ughhh', 'ugliness', 'ugly', 'ujiri', 'uk', 'ultimate', 'ultimately', 'ultrawide', 'ums', 'un', 'unable', 'unaware', 'unbelievable', 'uncertain', 'undefeated', 'underdog', 'underrated', 'understand', 'understanding', 'underwear', 'une', 'unfamiliar', 'unforgettable', 'unfortunate', 'unheard', 'unhinged', 'uniform', 'uniforms', 'union', 'unique', 'united', 'unless', 'unlucky', 'unpaid', 'unpopular', 'unprecedented', 'upcoming', 'update', 'updated', 'uploaded', 'ups', 'upset', 'us', 'usa', 'usab', 'use', 'used', 'user', 'using', 'usual', 'usually', 'utah', 'utilize', 'vague', 'valencia', 'validity', 'valoriane', 'van', 'vanvleet', 'var', 'various', 'vegas', 'veins', 'versatile', 'version', 'vertebrae', 'vetoed', 'via', 'vibes', 'vice', 'victor', 'victorious', 'victory', 'vid', 'video', 'view', 'viewed', 'viewing', 'viewings', 'views', 'vigril', 'villa', 'vince', 'vincent', 'vintage', 'virg', 'virgil', 'visibly', 'visit', 'visiting', 'vlad', 'volume', 'vowed', 'vp', 'vs', 'vvd', 'wade', 'wait', 'waited', 'waiting', 'waive', 'waived', 'wake', 'walk', 'walker', 'walking', 'walkout', 'wall', 'wallpaper', 'walton', 'wan', 'wank', 'want', 'wanted', 'wants', 'war', 'warm', 'warnock', 'warrior', 'warriors', 'wash', 'washing', 'washington', 'waste', 'watch', 'watched', 'watchful', 'watching', 'wave', 'waved', 'way', 'ways', 'wcf', 'wear', 'wearing', 'webb', 'websites', 'webster', 'wedding', 'wee', 'week', 'weekend', 'weekends', 'weeks', 'weird', 'weirder', 'weirdly', 'welcome', 'welcomed', 'welcoming', 'well', 'wembley', 'wenger', 'went', 'werder', 'werent', 'wesley', 'west', 'westbrook', 'western', 'wexler', 'whatever', 'whenever', 'whether', 'whistle', 'white', 'whole', 'wholesome', 'whose', 'wide', 'wider', 'wijnaldum', 'wiki', 'wikipedia', 'wildest', 'wildly', 'wilkins', 'williams', 'williamson', 'wilson', 'win', 'windhorst', 'window', 'wing', 'winner', 'winning', 'winnings', 'wins', 'wire', 'wish', 'wishes', 'wishing', 'wishlist', 'withdrawing', 'withdrawn', 'within', 'without', 'witnessed', 'wizards', 'wojnarowski', 'women', 'womens', 'wonderful', 'wondering', 'word', 'wordcount', 'words', 'wore', 'work', 'working', 'workout', 'works', 'world', 'worldy', 'worn', 'worse', 'worsen', 'worst', 'worth', 'worthy', 'would', 'wow', 'wqam', 'wrap', 'wrist', 'writer', 'writers', 'written', 'wrong', 'wrote', 'xherdan', 'xi', 'yacht', 'yadda', 'yahoo', 'yall', 'yankee', 'yeah', 'year', 'yearbook', 'years', 'yes', 'yesterday', 'yet', 'yikes', 'ynwa', 'ynwsa', 'york', 'young', 'youngest', 'youre', 'youtube', 'zero', 'zion', 'zoran']\n"
     ]
    }
   ],
   "source": [
    "vocab = vectorizer.get_feature_names()\n",
    "print(vocab)"
   ]
  },
  {
   "cell_type": "code",
   "execution_count": 34,
   "metadata": {},
   "outputs": [],
   "source": [
    "# Instantiate logistic regression model.\n",
    "\n",
    "lr = LogisticRegression()"
   ]
  },
  {
   "cell_type": "code",
   "execution_count": 35,
   "metadata": {},
   "outputs": [
    {
     "name": "stderr",
     "output_type": "stream",
     "text": [
      "C:\\Users\\FCG\\Anaconda3\\lib\\site-packages\\sklearn\\linear_model\\logistic.py:433: FutureWarning: Default solver will be changed to 'lbfgs' in 0.22. Specify a solver to silence this warning.\n",
      "  FutureWarning)\n"
     ]
    },
    {
     "data": {
      "text/plain": [
       "LogisticRegression(C=1.0, class_weight=None, dual=False, fit_intercept=True,\n",
       "          intercept_scaling=1, max_iter=100, multi_class='warn',\n",
       "          n_jobs=None, penalty='l2', random_state=None, solver='warn',\n",
       "          tol=0.0001, verbose=0, warm_start=False)"
      ]
     },
     "execution_count": 35,
     "metadata": {},
     "output_type": "execute_result"
    }
   ],
   "source": [
    "# Fit model to training data.\n",
    "\n",
    "lr.fit(train_data_features, y_train)"
   ]
  },
  {
   "cell_type": "code",
   "execution_count": 36,
   "metadata": {},
   "outputs": [
    {
     "data": {
      "text/plain": [
       "0.9921052631578947"
      ]
     },
     "execution_count": 36,
     "metadata": {},
     "output_type": "execute_result"
    }
   ],
   "source": [
    "# Evaluate model on training data.\n",
    "lr.score(train_data_features, y_train)"
   ]
  },
  {
   "cell_type": "code",
   "execution_count": 37,
   "metadata": {},
   "outputs": [
    {
     "data": {
      "text/plain": [
       "array([0, 0, 0, 0, 0, 0, 1, 1, 0, 0, 1, 1, 0, 0, 0, 0, 0, 0, 1, 1, 0, 1,\n",
       "       0, 1, 0, 0, 0, 0, 1, 1, 0, 0, 0, 1, 1, 0, 1, 0, 1, 1, 1, 0, 1, 0,\n",
       "       1, 0, 0, 0, 0, 0, 1, 1, 0, 0, 0, 1, 0, 1, 0, 1, 0, 0, 1, 0, 0, 0,\n",
       "       1, 0, 0, 1, 1, 1, 1, 1, 0, 1, 0, 0, 1, 0, 0, 0, 1, 1, 0, 1, 0, 0,\n",
       "       1, 1, 0, 0, 0, 0, 1, 0, 1, 1, 0, 0, 1, 0, 1, 0, 1, 1, 0, 1, 0, 0,\n",
       "       1, 0, 1, 0, 0, 1, 0, 0, 0, 0, 0, 1, 1, 1, 0, 0, 1, 1, 0, 0, 1, 0,\n",
       "       0, 1, 0, 0, 0, 0, 0, 0, 0, 1, 0, 0, 1, 1, 0, 0, 0, 1, 0, 1, 1, 1,\n",
       "       1, 0, 1, 0, 1, 0, 1, 0, 1, 1, 0, 0, 1, 1, 0, 0, 1, 1, 0, 0, 0, 1,\n",
       "       1, 0, 0, 1, 0, 0, 1, 1, 0, 1, 1, 1, 1, 0, 1, 0, 1, 1, 1, 1, 1, 0,\n",
       "       1, 1, 1, 1, 0, 0, 1, 1, 1, 1, 1, 1, 0, 0, 1, 0, 0, 0, 1, 1, 1, 1,\n",
       "       1, 0, 0, 0, 1, 1, 1, 1, 0, 0, 1, 0, 1, 0, 1, 0, 0, 1, 1, 1, 0, 0,\n",
       "       1, 0, 1, 1, 0, 1, 0, 0, 0, 0, 0, 0, 1, 1, 1, 1, 1, 0, 0, 0, 1, 0,\n",
       "       1, 0, 0, 0, 1, 0, 1, 0, 1, 1, 1, 0, 0, 1, 0, 0, 0, 0, 0, 0, 1, 1,\n",
       "       0, 0, 1, 1, 1, 0, 0, 0, 1, 0, 1, 0, 1, 0, 1, 0, 0, 0, 0, 0, 0, 0,\n",
       "       1, 1, 0, 1, 0, 0, 0, 1, 1, 1, 0, 0, 1, 0, 1, 1, 1, 0, 1, 1, 0, 0,\n",
       "       1, 0, 1, 1, 0, 0, 1, 1, 1, 1, 1, 0, 0, 0, 1, 1, 0, 0, 1, 0, 0, 0,\n",
       "       0, 1, 1, 1, 0, 0, 1, 0, 0, 0, 1, 0, 0, 1, 1, 0, 0, 0, 0, 1, 0, 1,\n",
       "       0, 0, 1, 0, 1, 0, 0], dtype=int64)"
      ]
     },
     "execution_count": 37,
     "metadata": {},
     "output_type": "execute_result"
    }
   ],
   "source": [
    "lr.predict(test_data_features)"
   ]
  },
  {
   "cell_type": "code",
   "execution_count": 38,
   "metadata": {
    "scrolled": true
   },
   "outputs": [
    {
     "data": {
      "text/plain": [
       "0.9396325459317585"
      ]
     },
     "execution_count": 38,
     "metadata": {},
     "output_type": "execute_result"
    }
   ],
   "source": [
    "# Evaluate model on testing data.\n",
    "\n",
    "lr.score(test_data_features, y_test)"
   ]
  },
  {
   "cell_type": "markdown",
   "metadata": {},
   "source": [
    "# NLP II: `CountVectorizer` and `TfidfVectorizer"
   ]
  },
  {
   "cell_type": "code",
   "execution_count": null,
   "metadata": {},
   "outputs": [],
   "source": []
  },
  {
   "cell_type": "markdown",
   "metadata": {},
   "source": [
    "# Naive Bayes"
   ]
  },
  {
   "cell_type": "code",
   "execution_count": 39,
   "metadata": {},
   "outputs": [],
   "source": [
    "posts.index = posts.index.astype(int)    # By default, everything read in is a string!"
   ]
  },
  {
   "cell_type": "code",
   "execution_count": 40,
   "metadata": {
    "scrolled": true
   },
   "outputs": [
    {
     "name": "stdout",
     "output_type": "stream",
     "text": [
      "<class 'pandas.core.frame.DataFrame'>\n",
      "Int64Index: 1521 entries, 0 to 1520\n",
      "Data columns (total 2 columns):\n",
      "subreddit    1521 non-null int64\n",
      "message      1521 non-null object\n",
      "dtypes: int64(1), object(1)\n",
      "memory usage: 35.6+ KB\n"
     ]
    }
   ],
   "source": [
    "posts.info()"
   ]
  },
  {
   "cell_type": "code",
   "execution_count": 41,
   "metadata": {},
   "outputs": [],
   "source": [
    "# Note above that some rows are null, which we cannot use for training\n",
    "posts = posts.dropna()"
   ]
  },
  {
   "cell_type": "code",
   "execution_count": 42,
   "metadata": {},
   "outputs": [
    {
     "data": {
      "text/plain": [
       "<1521x4895 sparse matrix of type '<class 'numpy.int64'>'\n",
       "\twith 24170 stored elements in Compressed Sparse Row format>"
      ]
     },
     "execution_count": 42,
     "metadata": {},
     "output_type": "execute_result"
    }
   ],
   "source": [
    "# Let's use the CountVectorizer to count words for us\n",
    "cvt      =  CountVectorizer(strip_accents='unicode', ngram_range=(1,1))\n",
    "X_all    =  cvt.fit_transform(posts['message'])\n",
    "columns  =  np.array(cvt.get_feature_names())          # ndarray (for indexing below)\n",
    "\n",
    "# note this is a large sparse matrix. \n",
    "#    - rows are tweets, columns are words \n",
    "X_all"
   ]
  },
  {
   "cell_type": "code",
   "execution_count": 43,
   "metadata": {},
   "outputs": [
    {
     "data": {
      "text/plain": [
       "the         1465\n",
       "to           724\n",
       "and          527\n",
       "in           495\n",
       "of           444\n",
       "for          319\n",
       "is           287\n",
       "on           286\n",
       "he           264\n",
       "this         262\n",
       "it           255\n",
       "that         252\n",
       "game         231\n",
       "with         210\n",
       "was          180\n",
       "kd           168\n",
       "have         154\n",
       "you          152\n",
       "at           145\n",
       "warriors     142\n",
       "dtype: int64"
      ]
     },
     "execution_count": 43,
     "metadata": {},
     "output_type": "execute_result"
    }
   ],
   "source": [
    "# So .. we'll use np.sum() to convert it directly from the sparse matrix!\n",
    "# This is enormously more memory-efficient ...\n",
    "#   It only requires one int per column since summing across columns is the total word count.\n",
    "\n",
    "def get_freq_words(sparse_counts, columns):\n",
    "    # X_all is a sparse matrix, so sum() returns a 'matrix' datatype ...\n",
    "    #   which we then convert into a 1-D ndarray for sorting\n",
    "    word_counts = np.asarray(X_all.sum(axis=0)).reshape(-1)\n",
    "\n",
    "    # argsort() returns smallest first, so we reverse the result\n",
    "    largest_count_indices = word_counts.argsort()[::-1]\n",
    "\n",
    "    # pretty-print the results! Remember to always ask whether they make sense ...\n",
    "    freq_words = pd.Series(word_counts[largest_count_indices], \n",
    "                           index=columns[largest_count_indices])\n",
    "\n",
    "    return freq_words\n",
    "\n",
    "\n",
    "freq_words = get_freq_words(X_all, columns)\n",
    "freq_words[:20]"
   ]
  },
  {
   "cell_type": "code",
   "execution_count": 47,
   "metadata": {},
   "outputs": [
    {
     "name": "stdout",
     "output_type": "stream",
     "text": [
      "the     1465\n",
      "to       724\n",
      "and      527\n",
      "in       495\n",
      "of       444\n",
      "for      319\n",
      "is       287\n",
      "on       286\n",
      "he       264\n",
      "this     262\n",
      "dtype: int64\n"
     ]
    },
    {
     "name": "stderr",
     "output_type": "stream",
     "text": [
      "C:\\Users\\FCG\\Anaconda3\\lib\\site-packages\\sklearn\\utils\\validation.py:595: DataConversionWarning: Data with input dtype int64 was converted to float64.\n",
      "  warnings.warn(msg, DataConversionWarning)\n"
     ]
    },
    {
     "data": {
      "image/png": "[encoded data removed]",
      "text/plain": [
       "<Figure size 864x432 with 3 Axes>"
      ]
     },
     "metadata": {},
     "output_type": "display_data"
    }
   ],
   "source": [
    "def hist_counts(word_counts):\n",
    "    hist_counts = pd.Series(minmax_scale(word_counts), \n",
    "                            index=word_counts.index)\n",
    "    \n",
    "    # Overall graph is hard to understand, so let's break it into three graphs\n",
    "    fig, axes = plt.subplots(nrows=1, ncols=3, figsize=(12,6))\n",
    "    \n",
    "    hist_counts.plot(kind=\"hist\", bins=50, ax=axes[0], title=\"Histogram - All\")\n",
    "    \n",
    "    # look at the range of extreme commons that seem to exist below .01\n",
    "    hist_counts[hist_counts < .01].plot(kind=\"hist\", ax=axes[2], title=\"Histogram - Counts < .01\")\n",
    "    \n",
    "    # There are a lot of really common tokens within 10% -- filter them out\n",
    "    hist_counts[hist_counts > .1].plot(kind=\"hist\", bins=50, ax=axes[1], title=\"Histogram - Counts > .1\")\n",
    "\n",
    "print(freq_words[:10])\n",
    "hist_counts(freq_words)"
   ]
  },
  {
   "cell_type": "code",
   "execution_count": 48,
   "metadata": {},
   "outputs": [
    {
     "name": "stdout",
     "output_type": "stream",
     "text": [
      "game         231\n",
      "kd           168\n",
      "warriors     142\n",
      "nba          136\n",
      "durant       133\n",
      "injury       128\n",
      "liverpool    128\n",
      "raptors      119\n",
      "team         107\n",
      "just         106\n",
      "dtype: int64\n"
     ]
    },
    {
     "name": "stderr",
     "output_type": "stream",
     "text": [
      "C:\\Users\\FCG\\Anaconda3\\lib\\site-packages\\sklearn\\utils\\validation.py:595: DataConversionWarning: Data with input dtype int64 was converted to float64.\n",
      "  warnings.warn(msg, DataConversionWarning)\n"
     ]
    },
    {
     "data": {
      "image/png": "[encoded data removed]",
      "text/plain": [
       "<Figure size 864x432 with 3 Axes>"
      ]
     },
     "metadata": {},
     "output_type": "display_data"
    }
   ],
   "source": [
    "cvt      =  CountVectorizer(strip_accents='unicode', stop_words=\"english\", ngram_range=(1,1))\n",
    "X_all    =  cvt.fit_transform(posts['message'])\n",
    "columns  =  np.array(cvt.get_feature_names())\n",
    "\n",
    "freq_words = get_freq_words(X_all, columns)\n",
    "\n",
    "print(freq_words[:10])\n",
    "hist_counts(freq_words)"
   ]
  },
  {
   "cell_type": "code",
   "execution_count": 49,
   "metadata": {},
   "outputs": [
    {
     "data": {
      "text/plain": [
       "228.0686100000239"
      ]
     },
     "execution_count": 49,
     "metadata": {},
     "output_type": "execute_result"
    }
   ],
   "source": [
    "# Checking range between .99 - .99999\n",
    "freq_words.quantile(.99999)"
   ]
  },
  {
   "cell_type": "code",
   "execution_count": 50,
   "metadata": {},
   "outputs": [
    {
     "data": {
      "text/plain": [
       "warriors      142\n",
       "nba           136\n",
       "durant        133\n",
       "injury        128\n",
       "liverpool     128\n",
       "raptors       119\n",
       "team          107\n",
       "just          106\n",
       "season        103\n",
       "finals         99\n",
       "amp            94\n",
       "kevin          88\n",
       "league         86\n",
       "kawhi          76\n",
       "play           76\n",
       "time           75\n",
       "fans           69\n",
       "player         67\n",
       "players        66\n",
       "like           66\n",
       "final          64\n",
       "2019           61\n",
       "new            51\n",
       "achilles       51\n",
       "games          50\n",
       "year           49\n",
       "win            48\n",
       "think          47\n",
       "said           47\n",
       "champions      47\n",
       "             ... \n",
       "conference     10\n",
       "healthy        10\n",
       "guy            10\n",
       "gonna          10\n",
       "set            10\n",
       "late           10\n",
       "watching       10\n",
       "changed        10\n",
       "lebron         10\n",
       "article        10\n",
       "happy          10\n",
       "scored         10\n",
       "tor            10\n",
       "15             10\n",
       "life           10\n",
       "fun            10\n",
       "line           10\n",
       "rpg            10\n",
       "news           10\n",
       "steve          10\n",
       "watch          10\n",
       "europe         10\n",
       "moreno         10\n",
       "summer         10\n",
       "ucl            10\n",
       "close          10\n",
       "2014           10\n",
       "stop           10\n",
       "able           10\n",
       "multiple       10\n",
       "Length: 326, dtype: int64"
      ]
     },
     "execution_count": 50,
     "metadata": {},
     "output_type": "execute_result"
    }
   ],
   "source": [
    "# find the %1, and %10 threshold for masking\n",
    "freq_words[(freq_words >= 10) & (freq_words <= 150)]"
   ]
  },
  {
   "cell_type": "code",
   "execution_count": 51,
   "metadata": {},
   "outputs": [
    {
     "data": {
      "text/plain": [
       "kevin durant                         81\n",
       "nba finals                           47\n",
       "champions league                     37\n",
       "regular season                       31\n",
       "van dijk                             28\n",
       "kd injury                            26\n",
       "durant injury                        22\n",
       "golden state                         22\n",
       "achilles injury                      21\n",
       "kawhi leonard                        21\n",
       "kevin durant injury                  18\n",
       "toronto raptors                      15\n",
       "jurassic park                        15\n",
       "klay thompson                        15\n",
       "00 00                                15\n",
       "finals game                          14\n",
       "virgil van                           14\n",
       "league final                         13\n",
       "daniel sturridge                     13\n",
       "virgil van dijk                      13\n",
       "state warriors                       13\n",
       "demarcus cousins                     13\n",
       "000 00                               12\n",
       "steph curry                          12\n",
       "locker room                          12\n",
       "golden state warriors                12\n",
       "00 00 0000000000                     12\n",
       "000 00 00                            12\n",
       "000 00 00 0000000000                 12\n",
       "00 0000000000                        12\n",
       "                                     ..\n",
       "place buy buy lfc                     1\n",
       "place buy buy                         1\n",
       "place belong champions europe         1\n",
       "place belong                          1\n",
       "place depth discussions yesterday     1\n",
       "place 11 32 et                        1\n",
       "place 11 32                           1\n",
       "place 11                              1\n",
       "pl team                               1\n",
       "pl season 19 20                       1\n",
       "pl season 19                          1\n",
       "place depth discussions               1\n",
       "place getting                         1\n",
       "place want barrett                    1\n",
       "place start                           1\n",
       "place trade lakers double             1\n",
       "place trade lakers                    1\n",
       "place trade                           1\n",
       "place sub huge mess                   1\n",
       "place sub huge                        1\n",
       "place sub                             1\n",
       "place people joining cheers           1\n",
       "place getting rid                     1\n",
       "place people joining                  1\n",
       "place people                          1\n",
       "place greek league euroleague         1\n",
       "place greek league                    1\n",
       "place greek                           1\n",
       "place getting rid old                 1\n",
       "leonard steals                        1\n",
       "Length: 37828, dtype: int64"
      ]
     },
     "execution_count": 51,
     "metadata": {},
     "output_type": "execute_result"
    }
   ],
   "source": [
    "cvt = CountVectorizer(stop_words=\"english\", ngram_range=(2,4))\n",
    "X_all = cvt.fit_transform(posts['message'])\n",
    "columns  =  np.array(cvt.get_feature_names())\n",
    "\n",
    "freq_words = get_freq_words(X_all, columns)\n",
    "freq_words"
   ]
  },
  {
   "cell_type": "code",
   "execution_count": 52,
   "metadata": {},
   "outputs": [],
   "source": [
    "from nltk.corpus import stopwords\n",
    "stop = stopwords.words('english')\n",
    "stop += ['http', 'https', 'rt']"
   ]
  },
  {
   "cell_type": "code",
   "execution_count": 53,
   "metadata": {},
   "outputs": [
    {
     "data": {
      "text/plain": [
       "game            231\n",
       "kd              168\n",
       "warriors        142\n",
       "nba             136\n",
       "durant          133\n",
       "injury          128\n",
       "liverpool       128\n",
       "raptors         119\n",
       "team            107\n",
       "season          103\n",
       "finals           99\n",
       "amp              94\n",
       "kevin            88\n",
       "league           86\n",
       "kevin durant     81\n",
       "one              79\n",
       "kawhi            76\n",
       "play             76\n",
       "time             75\n",
       "fans             69\n",
       "dtype: int64"
      ]
     },
     "execution_count": 53,
     "metadata": {},
     "output_type": "execute_result"
    }
   ],
   "source": [
    "# These look pretty clean for a first step in anlaysis\n",
    "cvt = CountVectorizer(stop_words=stop, lowercase=True, strip_accents=\"unicode\", ngram_range=(1,2))\n",
    "X_all = cvt.fit_transform(posts['message'])\n",
    "columns  =  np.array(cvt.get_feature_names())\n",
    "\n",
    "freq_words = get_freq_words(X_all, columns)\n",
    "freq_words[:20]"
   ]
  },
  {
   "cell_type": "code",
   "execution_count": 54,
   "metadata": {},
   "outputs": [
    {
     "data": {
      "text/plain": [
       "(1064, 763)"
      ]
     },
     "execution_count": 54,
     "metadata": {},
     "output_type": "execute_result"
    }
   ],
   "source": [
    "# Find our training size\n",
    "training_size = int(posts.shape[0] * .7)\n",
    "\n",
    "# Randomly sample our training data\n",
    "tweets_train = posts.sample(n=training_size, replace=True)\n",
    "\n",
    "# Capture the rest of the dataset that's not \"training\" using an inverse mask (rows NOT IN training dataframe)\n",
    "mask = posts.index.isin(tweets_train.index)\n",
    "tweets_test = posts[~mask]\n",
    "\n",
    "# Should be (2762, 1963) = training / testing = 70/30\n",
    "tweets_train.shape[0], tweets_test.shape[0]"
   ]
  },
  {
   "cell_type": "code",
   "execution_count": 55,
   "metadata": {},
   "outputs": [
    {
     "data": {
      "text/plain": [
       "0.9410222804718218"
      ]
     },
     "execution_count": 55,
     "metadata": {},
     "output_type": "execute_result"
    }
   ],
   "source": [
    "# MultinomialNB\n",
    "pipeline = Pipeline([\n",
    "    ('vect', CountVectorizer(lowercase=True, strip_accents='unicode', stop_words=stop)),\n",
    "    ('tfidf', TfidfTransformer()),\n",
    "    ('cls', MultinomialNB())\n",
    "]) \n",
    "pipeline.fit(tweets_train[\"message\"], tweets_train[\"subreddit\"])\n",
    "predicted = pipeline.predict(tweets_test[\"message\"])\n",
    "pipeline.score(tweets_test[\"message\"], tweets_test[\"subreddit\"])"
   ]
  },
  {
   "cell_type": "code",
   "execution_count": 56,
   "metadata": {},
   "outputs": [
    {
     "data": {
      "text/plain": [
       "0.9292267365661862"
      ]
     },
     "execution_count": 56,
     "metadata": {},
     "output_type": "execute_result"
    }
   ],
   "source": [
    "# Alternative -- train on all data\n",
    "# MultinomialNB\n",
    "pipeline = Pipeline([\n",
    "    ('vect', cvt),\n",
    "    # ('tfidf', TfidfTransformer()),\n",
    "    ('cls', MultinomialNB())\n",
    "]) \n",
    "pipeline.fit(tweets_train[\"message\"], tweets_train[\"subreddit\"])\n",
    "predicted = pipeline.predict(tweets_test[\"message\"])\n",
    "pipeline.score(tweets_test[\"message\"], tweets_test[\"subreddit\"])"
   ]
  },
  {
   "cell_type": "code",
   "execution_count": 57,
   "metadata": {},
   "outputs": [
    {
     "data": {
      "text/plain": [
       "0.6985583224115334"
      ]
     },
     "execution_count": 57,
     "metadata": {},
     "output_type": "execute_result"
    }
   ],
   "source": [
    "# BernoulliNB\n",
    "pipeline = Pipeline([\n",
    "    ('vect', cvt),\n",
    "    ('tfidf', TfidfTransformer()),\n",
    "    ('cls', BernoulliNB())\n",
    "]) \n",
    "pipeline.fit(tweets_train[\"message\"], tweets_train[\"subreddit\"])\n",
    "predicted = pipeline.predict(tweets_test[\"message\"])\n",
    "pipeline.score(tweets_test[\"message\"], tweets_test[\"subreddit\"])"
   ]
  },
  {
   "cell_type": "code",
   "execution_count": 58,
   "metadata": {},
   "outputs": [
    {
     "name": "stderr",
     "output_type": "stream",
     "text": [
      "C:\\Users\\FCG\\Anaconda3\\lib\\site-packages\\sklearn\\linear_model\\logistic.py:433: FutureWarning: Default solver will be changed to 'lbfgs' in 0.22. Specify a solver to silence this warning.\n",
      "  FutureWarning)\n"
     ]
    },
    {
     "data": {
      "text/plain": [
       "0.9370904325032765"
      ]
     },
     "execution_count": 58,
     "metadata": {},
     "output_type": "execute_result"
    }
   ],
   "source": [
    "# LogisticRegression\n",
    "pipeline = Pipeline([\n",
    "    ('vect', cvt),\n",
    "    ('tfidf', TfidfTransformer()),\n",
    "    ('cls', LogisticRegression())\n",
    "]) \n",
    "pipeline.fit(tweets_train[\"message\"], tweets_train[\"subreddit\"])\n",
    "predicted = pipeline.predict(tweets_test[\"message\"])\n",
    "pipeline.score(tweets_test[\"message\"], tweets_test[\"subreddit\"])"
   ]
  },
  {
   "cell_type": "code",
   "execution_count": 59,
   "metadata": {},
   "outputs": [
    {
     "data": {
      "text/plain": [
       "0.9148099606815203"
      ]
     },
     "execution_count": 59,
     "metadata": {},
     "output_type": "execute_result"
    }
   ],
   "source": [
    "# BernoulliNB\n",
    "cvt2 = CountVectorizer(stop_words=stop, lowercase=True, strip_accents=\"unicode\", ngram_range=(1,2))\n",
    "pipeline = Pipeline([\n",
    "    ('vect', cvt2),\n",
    "    # ('tfidf', TfidfTransformer()),\n",
    "    ('cls', LogisticRegression())\n",
    "]) \n",
    "pipeline.fit(tweets_train[\"message\"], tweets_train[\"subreddit\"])\n",
    "predicted = pipeline.predict(tweets_test[\"message\"])\n",
    "pipeline.score(tweets_test[\"message\"], tweets_test[\"subreddit\"])"
   ]
  },
  {
   "cell_type": "code",
   "execution_count": 60,
   "metadata": {},
   "outputs": [
    {
     "data": {
      "text/plain": [
       "((763, 2), 763)"
      ]
     },
     "execution_count": 60,
     "metadata": {},
     "output_type": "execute_result"
    }
   ],
   "source": [
    "tweets_test.shape, len(predicted)"
   ]
  },
  {
   "cell_type": "code",
   "execution_count": 61,
   "metadata": {
    "scrolled": true
   },
   "outputs": [
    {
     "name": "stdout",
     "output_type": "stream",
     "text": [
      "              precision    recall  f1-score   support\n",
      "\n",
      "           0       0.86      0.99      0.92       384\n",
      "           1       0.99      0.84      0.91       379\n",
      "\n",
      "   micro avg       0.91      0.91      0.91       763\n",
      "   macro avg       0.92      0.91      0.91       763\n",
      "weighted avg       0.92      0.91      0.91       763\n",
      "\n"
     ]
    }
   ],
   "source": [
    "predicted = pipeline.predict(tweets_test[\"message\"])\n",
    "print(classification_report(tweets_test[\"subreddit\"], predicted))"
   ]
  },
  {
   "cell_type": "code",
   "execution_count": 62,
   "metadata": {},
   "outputs": [],
   "source": [
    "def multi_roc(y, probs):\n",
    "    \n",
    "    mean_tpr = 0.0\n",
    "    mean_fpr = np.linspace(0, 1, 100)\n",
    "    all_tpr = []\n",
    "\n",
    "    for i, (train, test) in enumerate(cv):\n",
    "        # probas_ = classifier.fit(X[train], y[train]).predict_proba(X[test])\n",
    "        # Compute ROC curve and area the curve\n",
    "        fpr, tpr, thresholds = roc_curve(y[test], probas_[:, 1])\n",
    "        mean_tpr += interp(mean_fpr, fpr, tpr)\n",
    "        mean_tpr[0] = 0.0\n",
    "        roc_auc = auc(fpr, tpr)\n",
    "        plt.plot(fpr, tpr, lw=1, label='ROC fold %d (area = %0.2f)' % (i, roc_auc))\n",
    "\n",
    "    plt.plot([0, 1], [0, 1], '--', color=(0.6, 0.6, 0.6), label='Luck')\n",
    "\n",
    "    mean_tpr /= len(cv)\n",
    "    mean_tpr[-1] = 1.0\n",
    "    mean_auc = auc(mean_fpr, mean_tpr)\n",
    "    plt.plot(mean_fpr, mean_tpr, 'k--',\n",
    "             label='Mean ROC (area = %0.2f)' % mean_auc, lw=2)\n",
    "\n",
    "    plt.xlim([-0.05, 1.05])\n",
    "    plt.ylim([-0.05, 1.05])\n",
    "    plt.xlabel('False Positive Rate')\n",
    "    plt.ylabel('True Positive Rate')\n",
    "    plt.title('Receiver operating characteristic example')\n",
    "    plt.legend(loc=\"lower right\")\n",
    "    plt.show()"
   ]
  },
  {
   "cell_type": "code",
   "execution_count": 63,
   "metadata": {},
   "outputs": [],
   "source": [
    "from sklearn.metrics import roc_curve\n",
    "\n",
    "def plot_roc(y, probs, threshmarkers=None):\n",
    "    fpr, tpr, thresh = roc_curve(y, probs)\n",
    "\n",
    "    plt.figure(figsize=(8,8))\n",
    "    plt.plot(fpr, tpr, lw=2)\n",
    "   \n",
    "    plt.xlabel(\"False Positive Rate\\n(1 - Specificity)\")\n",
    "    plt.ylabel(\"True Positive Rate\\n(Sensitivity)\")\n",
    "    plt.xlim([-0.025, 1.025])\n",
    "    plt.ylim([-0.025, 1.025])\n",
    "    plt.xticks(np.linspace(0, 1, 21), rotation=45)\n",
    "    plt.yticks(np.linspace(0, 1, 21))\n",
    "    plt.show()"
   ]
  },
  {
   "cell_type": "code",
   "execution_count": 64,
   "metadata": {},
   "outputs": [
    {
     "data": {
      "image/png": "[encoded data removed]",
      "text/plain": [
       "<Figure size 576x576 with 1 Axes>"
      ]
     },
     "metadata": {},
     "output_type": "display_data"
    },
    {
     "data": {
      "image/png": "[encoded data removed]",
      "text/plain": [
       "<Figure size 576x576 with 1 Axes>"
      ]
     },
     "metadata": {},
     "output_type": "display_data"
    }
   ],
   "source": [
    "predicted_proba = pipeline.predict_proba(tweets_test['message'])\n",
    "plot_roc(tweets_test['subreddit'].apply(lambda x: x == 0), predicted_proba[:, list(pipeline.classes_).index(0)])\n",
    "plot_roc(tweets_test['subreddit'].apply(lambda x: x == 1), predicted_proba[:, list(pipeline.classes_).index(1)])\n"
   ]
  },
  {
   "cell_type": "code",
   "execution_count": 65,
   "metadata": {},
   "outputs": [
    {
     "data": {
      "text/plain": [
       "0.5"
      ]
     },
     "execution_count": 65,
     "metadata": {},
     "output_type": "execute_result"
    }
   ],
   "source": [
    "(tweets_train.subreddit.value_counts() / len(tweets_train)).mean()"
   ]
  },
  {
   "cell_type": "code",
   "execution_count": 66,
   "metadata": {},
   "outputs": [
    {
     "data": {
      "text/html": [
       "<div>\n",
       "<style scoped>\n",
       "    .dataframe tbody tr th:only-of-type {\n",
       "        vertical-align: middle;\n",
       "    }\n",
       "\n",
       "    .dataframe tbody tr th {\n",
       "        vertical-align: top;\n",
       "    }\n",
       "\n",
       "    .dataframe thead th {\n",
       "        text-align: right;\n",
       "    }\n",
       "</style>\n",
       "<table border=\"1\" class=\"dataframe\">\n",
       "  <thead>\n",
       "    <tr style=\"text-align: right;\">\n",
       "      <th></th>\n",
       "      <th>actual</th>\n",
       "      <th>predicted</th>\n",
       "      <th>message</th>\n",
       "    </tr>\n",
       "  </thead>\n",
       "  <tbody>\n",
       "    <tr>\n",
       "      <th>17</th>\n",
       "      <td>1</td>\n",
       "      <td>0</td>\n",
       "      <td>i ve been trying for 2 minutes to figure out w...</td>\n",
       "    </tr>\n",
       "    <tr>\n",
       "      <th>26</th>\n",
       "      <td>1</td>\n",
       "      <td>0</td>\n",
       "      <td>can anyone educate me on achilles injuries</td>\n",
       "    </tr>\n",
       "    <tr>\n",
       "      <th>31</th>\n",
       "      <td>1</td>\n",
       "      <td>0</td>\n",
       "      <td>lowry on being an icon to kids</td>\n",
       "    </tr>\n",
       "    <tr>\n",
       "      <th>40</th>\n",
       "      <td>1</td>\n",
       "      <td>0</td>\n",
       "      <td>20 candidates for team usa announced</td>\n",
       "    </tr>\n",
       "    <tr>\n",
       "      <th>49</th>\n",
       "      <td>0</td>\n",
       "      <td>1</td>\n",
       "      <td>henderson will not start in game v holland acc...</td>\n",
       "    </tr>\n",
       "    <tr>\n",
       "      <th>69</th>\n",
       "      <td>1</td>\n",
       "      <td>0</td>\n",
       "      <td>question about last night</td>\n",
       "    </tr>\n",
       "    <tr>\n",
       "      <th>86</th>\n",
       "      <td>1</td>\n",
       "      <td>0</td>\n",
       "      <td>humans have been cheering for injuries dating ...</td>\n",
       "    </tr>\n",
       "    <tr>\n",
       "      <th>92</th>\n",
       "      <td>1</td>\n",
       "      <td>0</td>\n",
       "      <td>will durant opt in to the 2019-2020 season if ...</td>\n",
       "    </tr>\n",
       "    <tr>\n",
       "      <th>95</th>\n",
       "      <td>1</td>\n",
       "      <td>0</td>\n",
       "      <td>bad contracts for picks</td>\n",
       "    </tr>\n",
       "    <tr>\n",
       "      <th>109</th>\n",
       "      <td>1</td>\n",
       "      <td>0</td>\n",
       "      <td>where would you rank joshua obiesie</td>\n",
       "    </tr>\n",
       "    <tr>\n",
       "      <th>110</th>\n",
       "      <td>1</td>\n",
       "      <td>0</td>\n",
       "      <td>looking for online stores or retailers that gi...</td>\n",
       "    </tr>\n",
       "    <tr>\n",
       "      <th>115</th>\n",
       "      <td>1</td>\n",
       "      <td>0</td>\n",
       "      <td>pacers offensive analysis</td>\n",
       "    </tr>\n",
       "    <tr>\n",
       "      <th>120</th>\n",
       "      <td>1</td>\n",
       "      <td>0</td>\n",
       "      <td>did mods seriously remove my post about them r...</td>\n",
       "    </tr>\n",
       "    <tr>\n",
       "      <th>157</th>\n",
       "      <td>1</td>\n",
       "      <td>0</td>\n",
       "      <td>draymond green kick is weirdly dangerous</td>\n",
       "    </tr>\n",
       "    <tr>\n",
       "      <th>177</th>\n",
       "      <td>1</td>\n",
       "      <td>0</td>\n",
       "      <td>kushner the pelicans  top brass loved basicall...</td>\n",
       "    </tr>\n",
       "    <tr>\n",
       "      <th>231</th>\n",
       "      <td>1</td>\n",
       "      <td>0</td>\n",
       "      <td>will chandler parsons be in the league after n...</td>\n",
       "    </tr>\n",
       "    <tr>\n",
       "      <th>235</th>\n",
       "      <td>1</td>\n",
       "      <td>0</td>\n",
       "      <td>screw the media</td>\n",
       "    </tr>\n",
       "    <tr>\n",
       "      <th>252</th>\n",
       "      <td>1</td>\n",
       "      <td>0</td>\n",
       "      <td>interesting topic for debate</td>\n",
       "    </tr>\n",
       "    <tr>\n",
       "      <th>344</th>\n",
       "      <td>1</td>\n",
       "      <td>0</td>\n",
       "      <td>patrick mccaw. is he a genius or just stupid l...</td>\n",
       "    </tr>\n",
       "    <tr>\n",
       "      <th>353</th>\n",
       "      <td>1</td>\n",
       "      <td>0</td>\n",
       "      <td>siakam stop shooting 3s</td>\n",
       "    </tr>\n",
       "    <tr>\n",
       "      <th>355</th>\n",
       "      <td>1</td>\n",
       "      <td>0</td>\n",
       "      <td>draymond green technical limit</td>\n",
       "    </tr>\n",
       "    <tr>\n",
       "      <th>385</th>\n",
       "      <td>1</td>\n",
       "      <td>0</td>\n",
       "      <td>mildly interesting only 2 out of 33 mips have ...</td>\n",
       "    </tr>\n",
       "    <tr>\n",
       "      <th>409</th>\n",
       "      <td>1</td>\n",
       "      <td>0</td>\n",
       "      <td>timeout</td>\n",
       "    </tr>\n",
       "    <tr>\n",
       "      <th>443</th>\n",
       "      <td>1</td>\n",
       "      <td>0</td>\n",
       "      <td>sources grizzlies to hire bucks jenkins as hc</td>\n",
       "    </tr>\n",
       "    <tr>\n",
       "      <th>458</th>\n",
       "      <td>1</td>\n",
       "      <td>0</td>\n",
       "      <td>scotto the atlanta hawks have waived deyonta d...</td>\n",
       "    </tr>\n",
       "    <tr>\n",
       "      <th>463</th>\n",
       "      <td>1</td>\n",
       "      <td>0</td>\n",
       "      <td>knowing your team s history shouldn t be a req...</td>\n",
       "    </tr>\n",
       "    <tr>\n",
       "      <th>465</th>\n",
       "      <td>1</td>\n",
       "      <td>0</td>\n",
       "      <td>referees waive off cousins putback due to offe...</td>\n",
       "    </tr>\n",
       "    <tr>\n",
       "      <th>515</th>\n",
       "      <td>1</td>\n",
       "      <td>0</td>\n",
       "      <td>rockets - lakers fight question</td>\n",
       "    </tr>\n",
       "    <tr>\n",
       "      <th>521</th>\n",
       "      <td>1</td>\n",
       "      <td>0</td>\n",
       "      <td>who s more cursed</td>\n",
       "    </tr>\n",
       "    <tr>\n",
       "      <th>534</th>\n",
       "      <td>1</td>\n",
       "      <td>0</td>\n",
       "      <td>new york knicks contingency plan</td>\n",
       "    </tr>\n",
       "    <tr>\n",
       "      <th>...</th>\n",
       "      <td>...</td>\n",
       "      <td>...</td>\n",
       "      <td>...</td>\n",
       "    </tr>\n",
       "    <tr>\n",
       "      <th>677</th>\n",
       "      <td>1</td>\n",
       "      <td>0</td>\n",
       "      <td>what happened to og</td>\n",
       "    </tr>\n",
       "    <tr>\n",
       "      <th>680</th>\n",
       "      <td>1</td>\n",
       "      <td>0</td>\n",
       "      <td>man tonight just fucking sucked for everyone.</td>\n",
       "    </tr>\n",
       "    <tr>\n",
       "      <th>698</th>\n",
       "      <td>1</td>\n",
       "      <td>0</td>\n",
       "      <td>oc michael porter jr s foot drop  detailing t...</td>\n",
       "    </tr>\n",
       "    <tr>\n",
       "      <th>774</th>\n",
       "      <td>1</td>\n",
       "      <td>0</td>\n",
       "      <td>howbig a contract would this player get</td>\n",
       "    </tr>\n",
       "    <tr>\n",
       "      <th>789</th>\n",
       "      <td>1</td>\n",
       "      <td>0</td>\n",
       "      <td>kevon amp; kevin appreciation thread</td>\n",
       "    </tr>\n",
       "    <tr>\n",
       "      <th>790</th>\n",
       "      <td>1</td>\n",
       "      <td>0</td>\n",
       "      <td>how would it be possible for the warriors to r...</td>\n",
       "    </tr>\n",
       "    <tr>\n",
       "      <th>826</th>\n",
       "      <td>1</td>\n",
       "      <td>0</td>\n",
       "      <td>a chance for the bay fans to redeem their selves.</td>\n",
       "    </tr>\n",
       "    <tr>\n",
       "      <th>831</th>\n",
       "      <td>1</td>\n",
       "      <td>0</td>\n",
       "      <td>underrated steph s rebounding</td>\n",
       "    </tr>\n",
       "    <tr>\n",
       "      <th>916</th>\n",
       "      <td>1</td>\n",
       "      <td>0</td>\n",
       "      <td>draymond has 6 techs</td>\n",
       "    </tr>\n",
       "    <tr>\n",
       "      <th>935</th>\n",
       "      <td>1</td>\n",
       "      <td>0</td>\n",
       "      <td>this sub is extremely result oriented.</td>\n",
       "    </tr>\n",
       "    <tr>\n",
       "      <th>1024</th>\n",
       "      <td>1</td>\n",
       "      <td>0</td>\n",
       "      <td>schefter former michigan guard charles matthew...</td>\n",
       "    </tr>\n",
       "    <tr>\n",
       "      <th>1097</th>\n",
       "      <td>1</td>\n",
       "      <td>0</td>\n",
       "      <td>charania projected no. 1 overall pick zion wil...</td>\n",
       "    </tr>\n",
       "    <tr>\n",
       "      <th>1129</th>\n",
       "      <td>1</td>\n",
       "      <td>0</td>\n",
       "      <td>4-1. the dynasty killer</td>\n",
       "    </tr>\n",
       "    <tr>\n",
       "      <th>1137</th>\n",
       "      <td>1</td>\n",
       "      <td>0</td>\n",
       "      <td>kevin looney is also hurt</td>\n",
       "    </tr>\n",
       "    <tr>\n",
       "      <th>1142</th>\n",
       "      <td>0</td>\n",
       "      <td>1</td>\n",
       "      <td>last year i wore my kit and we lost. being sup...</td>\n",
       "    </tr>\n",
       "    <tr>\n",
       "      <th>1183</th>\n",
       "      <td>1</td>\n",
       "      <td>0</td>\n",
       "      <td>what size for my jersey</td>\n",
       "    </tr>\n",
       "    <tr>\n",
       "      <th>1186</th>\n",
       "      <td>1</td>\n",
       "      <td>0</td>\n",
       "      <td>do you guys like the adjustment of kerr starti...</td>\n",
       "    </tr>\n",
       "    <tr>\n",
       "      <th>1200</th>\n",
       "      <td>1</td>\n",
       "      <td>0</td>\n",
       "      <td>the fans inside scotiabank arena singing the c...</td>\n",
       "    </tr>\n",
       "    <tr>\n",
       "      <th>1269</th>\n",
       "      <td>1</td>\n",
       "      <td>0</td>\n",
       "      <td>best place to buy nba jerseys in australia</td>\n",
       "    </tr>\n",
       "    <tr>\n",
       "      <th>1290</th>\n",
       "      <td>1</td>\n",
       "      <td>0</td>\n",
       "      <td>carsen edwards may be small in size but scorin...</td>\n",
       "    </tr>\n",
       "    <tr>\n",
       "      <th>1306</th>\n",
       "      <td>1</td>\n",
       "      <td>0</td>\n",
       "      <td>rashidi larry o brien will be at scotia bank a...</td>\n",
       "    </tr>\n",
       "    <tr>\n",
       "      <th>1332</th>\n",
       "      <td>1</td>\n",
       "      <td>0</td>\n",
       "      <td>well this aged poorly</td>\n",
       "    </tr>\n",
       "    <tr>\n",
       "      <th>1337</th>\n",
       "      <td>1</td>\n",
       "      <td>0</td>\n",
       "      <td>what do y all think the pacers will do in free...</td>\n",
       "    </tr>\n",
       "    <tr>\n",
       "      <th>1375</th>\n",
       "      <td>1</td>\n",
       "      <td>0</td>\n",
       "      <td>who s your favourite role player of all time</td>\n",
       "    </tr>\n",
       "    <tr>\n",
       "      <th>1391</th>\n",
       "      <td>1</td>\n",
       "      <td>0</td>\n",
       "      <td>results of warrior s trashtalk so far</td>\n",
       "    </tr>\n",
       "    <tr>\n",
       "      <th>1448</th>\n",
       "      <td>1</td>\n",
       "      <td>0</td>\n",
       "      <td>this sub needs post approvals or post bans sho...</td>\n",
       "    </tr>\n",
       "    <tr>\n",
       "      <th>1482</th>\n",
       "      <td>1</td>\n",
       "      <td>0</td>\n",
       "      <td>reyes vince carter is in the building</td>\n",
       "    </tr>\n",
       "    <tr>\n",
       "      <th>1500</th>\n",
       "      <td>1</td>\n",
       "      <td>0</td>\n",
       "      <td>charlotte hornets /cha head coach james borreg...</td>\n",
       "    </tr>\n",
       "    <tr>\n",
       "      <th>1506</th>\n",
       "      <td>1</td>\n",
       "      <td>0</td>\n",
       "      <td>is kevon looney okay</td>\n",
       "    </tr>\n",
       "    <tr>\n",
       "      <th>1510</th>\n",
       "      <td>1</td>\n",
       "      <td>0</td>\n",
       "      <td>steph drilling 3s from the logo during warm-up</td>\n",
       "    </tr>\n",
       "  </tbody>\n",
       "</table>\n",
       "<p>67 rows × 3 columns</p>\n",
       "</div>"
      ],
      "text/plain": [
       "      actual  predicted                                            message\n",
       "17         1          0  i ve been trying for 2 minutes to figure out w...\n",
       "26         1          0         can anyone educate me on achilles injuries\n",
       "31         1          0                     lowry on being an icon to kids\n",
       "40         1          0               20 candidates for team usa announced\n",
       "49         0          1  henderson will not start in game v holland acc...\n",
       "69         1          0                          question about last night\n",
       "86         1          0  humans have been cheering for injuries dating ...\n",
       "92         1          0  will durant opt in to the 2019-2020 season if ...\n",
       "95         1          0                            bad contracts for picks\n",
       "109        1          0                where would you rank joshua obiesie\n",
       "110        1          0  looking for online stores or retailers that gi...\n",
       "115        1          0                          pacers offensive analysis\n",
       "120        1          0  did mods seriously remove my post about them r...\n",
       "157        1          0           draymond green kick is weirdly dangerous\n",
       "177        1          0  kushner the pelicans  top brass loved basicall...\n",
       "231        1          0  will chandler parsons be in the league after n...\n",
       "235        1          0                                    screw the media\n",
       "252        1          0                       interesting topic for debate\n",
       "344        1          0  patrick mccaw. is he a genius or just stupid l...\n",
       "353        1          0                            siakam stop shooting 3s\n",
       "355        1          0                     draymond green technical limit\n",
       "385        1          0  mildly interesting only 2 out of 33 mips have ...\n",
       "409        1          0                                            timeout\n",
       "443        1          0      sources grizzlies to hire bucks jenkins as hc\n",
       "458        1          0  scotto the atlanta hawks have waived deyonta d...\n",
       "463        1          0  knowing your team s history shouldn t be a req...\n",
       "465        1          0  referees waive off cousins putback due to offe...\n",
       "515        1          0                    rockets - lakers fight question\n",
       "521        1          0                                  who s more cursed\n",
       "534        1          0                   new york knicks contingency plan\n",
       "...      ...        ...                                                ...\n",
       "677        1          0                                what happened to og\n",
       "680        1          0      man tonight just fucking sucked for everyone.\n",
       "698        1          0  oc michael porter jr s foot drop  detailing t...\n",
       "774        1          0            howbig a contract would this player get\n",
       "789        1          0               kevon amp; kevin appreciation thread\n",
       "790        1          0  how would it be possible for the warriors to r...\n",
       "826        1          0  a chance for the bay fans to redeem their selves.\n",
       "831        1          0                      underrated steph s rebounding\n",
       "916        1          0                               draymond has 6 techs\n",
       "935        1          0             this sub is extremely result oriented.\n",
       "1024       1          0  schefter former michigan guard charles matthew...\n",
       "1097       1          0  charania projected no. 1 overall pick zion wil...\n",
       "1129       1          0                            4-1. the dynasty killer\n",
       "1137       1          0                          kevin looney is also hurt\n",
       "1142       0          1  last year i wore my kit and we lost. being sup...\n",
       "1183       1          0                            what size for my jersey\n",
       "1186       1          0  do you guys like the adjustment of kerr starti...\n",
       "1200       1          0  the fans inside scotiabank arena singing the c...\n",
       "1269       1          0         best place to buy nba jerseys in australia\n",
       "1290       1          0  carsen edwards may be small in size but scorin...\n",
       "1306       1          0  rashidi larry o brien will be at scotia bank a...\n",
       "1332       1          0                              well this aged poorly\n",
       "1337       1          0  what do y all think the pacers will do in free...\n",
       "1375       1          0       who s your favourite role player of all time\n",
       "1391       1          0              results of warrior s trashtalk so far\n",
       "1448       1          0  this sub needs post approvals or post bans sho...\n",
       "1482       1          0              reyes vince carter is in the building\n",
       "1500       1          0  charlotte hornets /cha head coach james borreg...\n",
       "1506       1          0                               is kevon looney okay\n",
       "1510       1          0     steph drilling 3s from the logo during warm-up\n",
       "\n",
       "[67 rows x 3 columns]"
      ]
     },
     "execution_count": 66,
     "metadata": {},
     "output_type": "execute_result"
    }
   ],
   "source": [
    "predicted = pipeline.predict(posts[\"message\"])\n",
    "\n",
    "# Incorrectly classified\n",
    "incorrect_preds = posts[(predicted != posts['subreddit'])]\n",
    "\n",
    "incorrect_df = pd.DataFrame({'actual': incorrect_preds['subreddit'], \n",
    "                             'predicted': predicted[incorrect_preds.index],\n",
    "                             'message': incorrect_preds['message']})\n",
    "\n",
    "incorrect_df"
   ]
  }
 ],
 "metadata": {
  "kernelspec": {
   "display_name": "Python 3",
   "language": "python",
   "name": "python3"
  },
  "language_info": {
   "codemirror_mode": {
    "name": "ipython",
    "version": 3
   },
   "file_extension": ".py",
   "mimetype": "text/x-python",
   "name": "python",
   "nbconvert_exporter": "python",
   "pygments_lexer": "ipython3",
   "version": "3.6.8"
  }
 },
 "nbformat": 4,
 "nbformat_minor": 2
}
